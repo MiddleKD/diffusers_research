{
 "cells": [
  {
   "cell_type": "code",
   "execution_count": 41,
   "metadata": {},
   "outputs": [],
   "source": [
    "import torch\n",
    "from safetensors.torch import load_file"
   ]
  },
  {
   "cell_type": "code",
   "execution_count": 42,
   "metadata": {},
   "outputs": [],
   "source": [
    "ct_movq_dict = dict(torch.load(\"/home/mlfavorfit/Desktop/lib_link/favorfit/kjg/0_model_weights/diffusion/Kandinsky/models--kandinsky-community--kandinsky-2-2-controlnet-depth/snapshots/4ecd717e8c9086cf4a16ca28b64894f70a42cd08/movq/diffusion_pytorch_model.bin\"))\n",
    "ct_unet_dict = dict(torch.load(\"/home/mlfavorfit/Desktop/lib_link/favorfit/kjg/0_model_weights/diffusion/Kandinsky/models--kandinsky-community--kandinsky-2-2-controlnet-depth/snapshots/4ecd717e8c9086cf4a16ca28b64894f70a42cd08/unet/diffusion_pytorch_model.bin\"))\n",
    "\n",
    "un_movq_dict = dict(load_file(\"/home/mlfavorfit/Desktop/lib_link/favorfit/kjg/0_model_weights/diffusion/Kandinsky/models--kandinsky-community--kandinsky-2-2-decoder-inpaint/snapshots/db790ad5cbcabed886f069ef2710774657621702/movq/diffusion_pytorch_model.safetensors\"))\n",
    "un_unet_dict = dict(load_file(\"/home/mlfavorfit/Desktop/lib_link/favorfit/kjg/0_model_weights/diffusion/Kandinsky/models--kandinsky-community--kandinsky-2-2-decoder-inpaint/snapshots/db790ad5cbcabed886f069ef2710774657621702/unet/diffusion_pytorch_model.safetensors\"))"
   ]
  },
  {
   "cell_type": "code",
   "execution_count": 43,
   "metadata": {},
   "outputs": [],
   "source": [
    "ct_movq = sorted([(cur, ct_movq_dict[cur].shape)for cur in ct_movq_dict], key=lambda x:x[0])\n",
    "ct_unet = sorted([(cur, ct_unet_dict[cur].shape)for cur in ct_unet_dict], key=lambda x:x[0])\n",
    "un_movq = sorted([(cur, un_movq_dict[cur].shape)for cur in un_movq_dict], key=lambda x:x[0])\n",
    "un_unet = sorted([(cur, un_unet_dict[cur].shape)for cur in un_unet_dict], key=lambda x:x[0])"
   ]
  },
  {
   "cell_type": "code",
   "execution_count": 44,
   "metadata": {},
   "outputs": [],
   "source": [
    "for ct, un in zip(ct_movq, un_movq):\n",
    "    if ct != un: print(\"warn\")"
   ]
  },
  {
   "cell_type": "code",
   "execution_count": 45,
   "metadata": {},
   "outputs": [],
   "source": [
    "only_ct = []\n",
    "common_ct_un = []\n",
    "for name, shape in ct_unet:\n",
    "    if name in un_unet_dict.keys():\n",
    "        common_ct_un.append(name)\n",
    "    else:\n",
    "        only_ct.append(name)"
   ]
  },
  {
   "cell_type": "code",
   "execution_count": 46,
   "metadata": {},
   "outputs": [
    {
     "name": "stdout",
     "output_type": "stream",
     "text": [
      "conv_in.weight\n"
     ]
    }
   ],
   "source": [
    "for name in common_ct_un:\n",
    "    if un_unet_dict[name].shape != ct_unet_dict[name].shape: print(name)"
   ]
  },
  {
   "cell_type": "code",
   "execution_count": 47,
   "metadata": {},
   "outputs": [
    {
     "data": {
      "text/plain": [
       "torch.Size([384, 9, 3, 3])"
      ]
     },
     "execution_count": 47,
     "metadata": {},
     "output_type": "execute_result"
    }
   ],
   "source": [
    "un_unet_dict[\"conv_in.weight\"].shape"
   ]
  },
  {
   "cell_type": "code",
   "execution_count": 48,
   "metadata": {},
   "outputs": [
    {
     "data": {
      "text/plain": [
       "torch.Size([384, 8, 3, 3])"
      ]
     },
     "execution_count": 48,
     "metadata": {},
     "output_type": "execute_result"
    }
   ],
   "source": [
    "ct_unet_dict[\"conv_in.weight\"].shape"
   ]
  },
  {
   "cell_type": "code",
   "execution_count": 49,
   "metadata": {},
   "outputs": [
    {
     "data": {
      "text/plain": [
       "torch.Size([384, 9, 3, 3])"
      ]
     },
     "execution_count": 49,
     "metadata": {},
     "output_type": "execute_result"
    }
   ],
   "source": [
    "un_unet_dict[\"conv_in.weight\"].shape"
   ]
  },
  {
   "cell_type": "code",
   "execution_count": 53,
   "metadata": {},
   "outputs": [
    {
     "name": "stdout",
     "output_type": "stream",
     "text": [
      "add_embedding.input_hint_block.0.bias torch.Size([16])\n",
      "add_embedding.input_hint_block.0.weight torch.Size([16, 3, 3, 3])\n",
      "add_embedding.input_hint_block.10.bias torch.Size([96])\n",
      "add_embedding.input_hint_block.10.weight torch.Size([96, 96, 3, 3])\n",
      "add_embedding.input_hint_block.12.bias torch.Size([256])\n",
      "add_embedding.input_hint_block.12.weight torch.Size([256, 96, 3, 3])\n",
      "add_embedding.input_hint_block.14.bias torch.Size([4])\n",
      "add_embedding.input_hint_block.14.weight torch.Size([4, 256, 3, 3])\n",
      "add_embedding.input_hint_block.2.bias torch.Size([16])\n",
      "add_embedding.input_hint_block.2.weight torch.Size([16, 16, 3, 3])\n",
      "add_embedding.input_hint_block.4.bias torch.Size([32])\n",
      "add_embedding.input_hint_block.4.weight torch.Size([32, 16, 3, 3])\n",
      "add_embedding.input_hint_block.6.bias torch.Size([32])\n",
      "add_embedding.input_hint_block.6.weight torch.Size([32, 32, 3, 3])\n",
      "add_embedding.input_hint_block.8.bias torch.Size([96])\n",
      "add_embedding.input_hint_block.8.weight torch.Size([96, 32, 3, 3])\n"
     ]
    }
   ],
   "source": [
    "for cur in only_ct:\n",
    "    print(cur, ct_unet_dict[cur].shape)"
   ]
  },
  {
   "cell_type": "code",
   "execution_count": 82,
   "metadata": {},
   "outputs": [
    {
     "name": "stdout",
     "output_type": "stream",
     "text": [
      "torch.Size([384, 13, 3, 3])\n"
     ]
    }
   ],
   "source": [
    "import torch\n",
    "\n",
    "# 기존 텐서의 모양과 새로운 모양 정의\n",
    "old_shape = (384, 9, 3, 3)\n",
    "new_shape = (384, 13, 3, 3)\n",
    "\n",
    "# 새로운 텐서 생성 및 기존 텐서 값 복사\n",
    "new_weight = torch.zeros(new_shape)  # 새로운 텐서를 모두 0으로 초기화\n",
    "old_weight = un_unet_dict[\"conv_in.weight\"]\n",
    "new_weight[:, :old_shape[1], :, :] = old_weight\n",
    "\n",
    "# 추가된 부분에 랜덤한 값 채우기\n",
    "random_part = torch.rand((new_shape[0], new_shape[1] - old_shape[1], new_shape[2], new_shape[3]))\n",
    "new_weight[:, old_shape[1]:, :, :] = random_part\n",
    "\n",
    "# 결과 확인\n",
    "print(new_weight.shape)\n"
   ]
  },
  {
   "cell_type": "code",
   "execution_count": 83,
   "metadata": {},
   "outputs": [],
   "source": [
    "un_unet_dict[\"conv_in.weight\"] = new_weight"
   ]
  },
  {
   "cell_type": "code",
   "execution_count": 84,
   "metadata": {},
   "outputs": [],
   "source": [
    "for cur in only_ct:\n",
    "    un_unet_dict[cur] = ct_unet_dict[cur]"
   ]
  },
  {
   "cell_type": "code",
   "execution_count": 85,
   "metadata": {},
   "outputs": [
    {
     "name": "stdout",
     "output_type": "stream",
     "text": [
      "740\n",
      "torch.Size([384, 13, 3, 3])\n"
     ]
    }
   ],
   "source": [
    "print(len(un_unet_dict))\n",
    "print(un_unet_dict[\"conv_in.weight\"].shape)"
   ]
  },
  {
   "cell_type": "code",
   "execution_count": 68,
   "metadata": {},
   "outputs": [],
   "source": [
    "from safetensors.torch import save_file\n",
    "\n",
    "save_file(un_unet_dict, \"/home/mlfavorfit/Desktop/lib_link/favorfit/kjg/0_model_weights/diffusion/Kandinsky/kandinsky-inpainting-controlnet/unet/diffusion_pytorch_model.safetensors\")"
   ]
  },
  {
   "cell_type": "code",
   "execution_count": 70,
   "metadata": {},
   "outputs": [],
   "source": [
    "temp_dict = load_file(\"/home/mlfavorfit/Desktop/lib_link/favorfit/kjg/0_model_weights/diffusion/Kandinsky/kandinsky-inpainting-controlnet/unet/diffusion_pytorch_model.safetensors\")"
   ]
  },
  {
   "cell_type": "code",
   "execution_count": 71,
   "metadata": {},
   "outputs": [
    {
     "name": "stdout",
     "output_type": "stream",
     "text": [
      "740\n",
      "torch.Size([384, 13, 3, 3])\n"
     ]
    }
   ],
   "source": [
    "print(len(temp_dict))\n",
    "print(temp_dict[\"conv_in.weight\"].shape)"
   ]
  },
  {
   "cell_type": "code",
   "execution_count": 87,
   "metadata": {},
   "outputs": [
    {
     "name": "stdout",
     "output_type": "stream",
     "text": [
      "add_embedding.input_hint_block.0.bias torch.Size([16])\n",
      "add_embedding.input_hint_block.0.weight torch.Size([16, 3, 3, 3])\n",
      "add_embedding.input_hint_block.10.bias torch.Size([96])\n",
      "add_embedding.input_hint_block.10.weight torch.Size([96, 96, 3, 3])\n",
      "add_embedding.input_hint_block.12.bias torch.Size([256])\n",
      "add_embedding.input_hint_block.12.weight torch.Size([256, 96, 3, 3])\n",
      "add_embedding.input_hint_block.14.bias torch.Size([4])\n",
      "add_embedding.input_hint_block.14.weight torch.Size([4, 256, 3, 3])\n",
      "add_embedding.input_hint_block.2.bias torch.Size([16])\n",
      "add_embedding.input_hint_block.2.weight torch.Size([16, 16, 3, 3])\n",
      "add_embedding.input_hint_block.4.bias torch.Size([32])\n",
      "add_embedding.input_hint_block.4.weight torch.Size([32, 16, 3, 3])\n",
      "add_embedding.input_hint_block.6.bias torch.Size([32])\n",
      "add_embedding.input_hint_block.6.weight torch.Size([32, 32, 3, 3])\n",
      "add_embedding.input_hint_block.8.bias torch.Size([96])\n",
      "add_embedding.input_hint_block.8.weight torch.Size([96, 32, 3, 3])\n"
     ]
    }
   ],
   "source": [
    "for cur in only_ct:\n",
    "    print(cur, temp_dict[cur].shape)"
   ]
  },
  {
   "cell_type": "code",
   "execution_count": 1,
   "metadata": {},
   "outputs": [],
   "source": [
    "from transformers import CLIPImageProcessor, CLIPVisionModelWithProjection\n",
    "image_processor = CLIPImageProcessor.from_pretrained(\"/home/mlfavorfit/Desktop/lib_link/favorfit/kjg/0_model_weights/diffusion/Kandinsky/kandinsky-inpainting-controlnet\"\n",
    "        , subfolder=\"image_processor\"\n",
    "    )"
   ]
  },
  {
   "cell_type": "code",
   "execution_count": 2,
   "metadata": {},
   "outputs": [
    {
     "data": {
      "text/plain": [
       "array([[[1.4631865, 1.4631865, 1.4631865, ..., 1.9157377, 1.9157377,\n",
       "         1.9157377],\n",
       "        [1.4631865, 1.4631865, 1.4485881, ..., 1.9157377, 1.9157377,\n",
       "         1.9157377],\n",
       "        [1.4631865, 1.4631865, 1.4485881, ..., 1.9157377, 1.9157377,\n",
       "         1.9157377],\n",
       "        ...,\n",
       "        [1.5069818, 1.5069818, 1.5069818, ..., 1.8865409, 1.9011393,\n",
       "         1.9011393],\n",
       "        [1.5069818, 1.5069818, 1.5069818, ..., 1.9011393, 1.9157377,\n",
       "         1.9157377],\n",
       "        [1.5069818, 1.5069818, 1.5069818, ..., 1.9011393, 1.9157377,\n",
       "         1.9157377]],\n",
       "\n",
       "       [[1.1293944, 1.1293944, 1.1293944, ..., 1.4595653, 1.4595653,\n",
       "         1.4595653],\n",
       "        [1.1293944, 1.1293944, 1.1143867, ..., 1.4595653, 1.4595653,\n",
       "         1.4595653],\n",
       "        [1.1293944, 1.1293944, 1.1143867, ..., 1.4595653, 1.4595653,\n",
       "         1.4595653],\n",
       "        ...,\n",
       "        [1.1293944, 1.1293944, 1.1293944, ..., 1.219441 , 1.2344488,\n",
       "         1.2344488],\n",
       "        [1.1293944, 1.1293944, 1.1293944, ..., 1.2344488, 1.2494565,\n",
       "         1.2494565],\n",
       "        [1.1293944, 1.1293944, 1.1293944, ..., 1.2344488, 1.2494565,\n",
       "         1.2494565]],\n",
       "\n",
       "       [[1.705075 , 1.705075 , 1.705075 , ..., 1.3922336, 1.3922336,\n",
       "         1.3922336],\n",
       "        [1.705075 , 1.705075 , 1.690855 , ..., 1.3922336, 1.3922336,\n",
       "         1.3922336],\n",
       "        [1.705075 , 1.705075 , 1.690855 , ..., 1.3922336, 1.3922336,\n",
       "         1.3922336],\n",
       "        ...,\n",
       "        [1.7192951, 1.7192951, 1.7192951, ..., 1.3069133, 1.3211333,\n",
       "         1.3211333],\n",
       "        [1.7192951, 1.7192951, 1.7192951, ..., 1.3211333, 1.3353534,\n",
       "         1.3353534],\n",
       "        [1.7192951, 1.7192951, 1.7192951, ..., 1.3211333, 1.3353534,\n",
       "         1.3353534]]], dtype=float32)"
      ]
     },
     "execution_count": 2,
     "metadata": {},
     "output_type": "execute_result"
    }
   ],
   "source": [
    "from PIL import Image\n",
    "image_processor(Image.open(\"/home/mlfavorfit/Desktop/style6.jpg\")).pixel_values[0]\n"
   ]
  },
  {
   "cell_type": "code",
   "execution_count": 1,
   "metadata": {},
   "outputs": [
    {
     "name": "stderr",
     "output_type": "stream",
     "text": [
      "/home/mlfavorfit/anaconda3/envs/diffusion_rnd/lib/python3.10/site-packages/tqdm/auto.py:21: TqdmWarning: IProgress not found. Please update jupyter and ipywidgets. See https://ipywidgets.readthedocs.io/en/stable/user_install.html\n",
      "  from .autonotebook import tqdm as notebook_tqdm\n"
     ]
    }
   ],
   "source": [
    "from transformers import CLIPImageProcessor, CLIPVisionModelWithProjection\n",
    "from diffusers import DDPMScheduler, UNet2DConditionModel, VQModel, KandinskyV22PriorPipeline\n",
    "import torch\n",
    "\n",
    "movq = VQModel.from_pretrained(\n",
    "            \"/home/mlfavorfit/Desktop/lib_link/favorfit/kjg/0_model_weights/diffusion/Kandinsky/kandinsky-inpainting-controlnet\", subfolder=\"movq\", torch_dtype=torch.float16\n",
    "        ).eval()\n",
    "image_encoder = CLIPVisionModelWithProjection.from_pretrained(\n",
    "    \"/home/mlfavorfit/Desktop/lib_link/favorfit/kjg/0_model_weights/diffusion/Kandinsky/kandinsky-inpainting-controlnet\", subfolder=\"image_encoder\", torch_dtype=torch.float16\n",
    ").eval()"
   ]
  },
  {
   "cell_type": "code",
   "execution_count": 7,
   "metadata": {},
   "outputs": [],
   "source": [
    "unet = UNet2DConditionModel.from_pretrained(\"/home/mlfavorfit/Desktop/lib_link/favorfit/kjg/0_model_weights/diffusion/Kandinsky/kandinsky-inpainting-controlnet\", subfolder=\"unet\")"
   ]
  },
  {
   "cell_type": "code",
   "execution_count": 5,
   "metadata": {},
   "outputs": [],
   "source": [
    "torch.cuda.empty_cache()"
   ]
  },
  {
   "cell_type": "code",
   "execution_count": 37,
   "metadata": {},
   "outputs": [
    {
     "name": "stdout",
     "output_type": "stream",
     "text": [
      "\n"
     ]
    }
   ],
   "source": [
    "movq.requires_grad_(False)\n",
    "movq.to(\"cuda\")\n",
    "image_encoder.requires_grad_(False)\n",
    "image_encoder.to(\"cuda\")\n",
    "print()"
   ]
  },
  {
   "cell_type": "code",
   "execution_count": 38,
   "metadata": {},
   "outputs": [
    {
     "name": "stdout",
     "output_type": "stream",
     "text": [
      "\n"
     ]
    }
   ],
   "source": [
    "unet.requires_grad_(True)\n",
    "unet.to(\"cuda\")\n",
    "print()"
   ]
  },
  {
   "cell_type": "code",
   "execution_count": 39,
   "metadata": {},
   "outputs": [],
   "source": [
    "total_params = sum(p.numel() for p in unet.parameters())\n",
    "total_params += sum(p.numel() for p in movq.parameters())\n",
    "total_params += sum(p.numel() for p in image_encoder.parameters())"
   ]
  },
  {
   "cell_type": "code",
   "execution_count": 40,
   "metadata": {},
   "outputs": [
    {
     "data": {
      "text/plain": [
       "3166186251"
      ]
     },
     "execution_count": 40,
     "metadata": {},
     "output_type": "execute_result"
    }
   ],
   "source": [
    "total_params"
   ]
  },
  {
   "cell_type": "code",
   "execution_count": 31,
   "metadata": {},
   "outputs": [],
   "source": [
    "from glob import glob\n",
    "fns = glob(\"/media/mlfavorfit/sda/product_mask/*/*\")"
   ]
  },
  {
   "cell_type": "code",
   "execution_count": 32,
   "metadata": {},
   "outputs": [],
   "source": [
    "from PIL import Image\n",
    "sorted_fns = sorted(fns)"
   ]
  },
  {
   "cell_type": "code",
   "execution_count": 33,
   "metadata": {},
   "outputs": [],
   "source": [
    "imgs = []\n",
    "masks = []\n",
    "for idx, cur in enumerate(sorted_fns):\n",
    "    if idx % 2 == 0:\n",
    "        imgs.append(cur)\n",
    "    else:\n",
    "        masks.append(cur)"
   ]
  },
  {
   "cell_type": "code",
   "execution_count": 4,
   "metadata": {},
   "outputs": [
    {
     "name": "stderr",
     "output_type": "stream",
     "text": [
      "  0%|          | 636/197967 [02:33<11:49:25,  4.64it/s]/home/mlfavorfit/anaconda3/envs/diffusion_rnd/lib/python3.10/site-packages/PIL/Image.py:3186: DecompressionBombWarning: Image size (144953856 pixels) exceeds limit of 89478485 pixels, could be decompression bomb DOS attack.\n",
      "  warnings.warn(\n",
      "  0%|          | 892/197967 [03:35<13:33:50,  4.04it/s]/home/mlfavorfit/anaconda3/envs/diffusion_rnd/lib/python3.10/site-packages/PIL/Image.py:3186: DecompressionBombWarning: Image size (91850210 pixels) exceeds limit of 89478485 pixels, could be decompression bomb DOS attack.\n",
      "  warnings.warn(\n",
      "  1%|          | 1162/197967 [04:41<11:41:12,  4.68it/s]/home/mlfavorfit/anaconda3/envs/diffusion_rnd/lib/python3.10/site-packages/PIL/Image.py:3186: DecompressionBombWarning: Image size (100000000 pixels) exceeds limit of 89478485 pixels, could be decompression bomb DOS attack.\n",
      "  warnings.warn(\n",
      "  1%|          | 2085/197967 [08:29<14:36:00,  3.73it/s]/home/mlfavorfit/anaconda3/envs/diffusion_rnd/lib/python3.10/site-packages/PIL/Image.py:3186: DecompressionBombWarning: Image size (103833600 pixels) exceeds limit of 89478485 pixels, could be decompression bomb DOS attack.\n",
      "  warnings.warn(\n",
      "  2%|▏         | 2976/197967 [12:12<12:29:26,  4.34it/s]/home/mlfavorfit/anaconda3/envs/diffusion_rnd/lib/python3.10/site-packages/PIL/Image.py:3186: DecompressionBombWarning: Image size (96000000 pixels) exceeds limit of 89478485 pixels, could be decompression bomb DOS attack.\n",
      "  warnings.warn(\n",
      "  2%|▏         | 3706/197967 [15:03<15:54:42,  3.39it/s]/home/mlfavorfit/anaconda3/envs/diffusion_rnd/lib/python3.10/site-packages/PIL/Image.py:3186: DecompressionBombWarning: Image size (111974400 pixels) exceeds limit of 89478485 pixels, could be decompression bomb DOS attack.\n",
      "  warnings.warn(\n",
      "  3%|▎         | 5033/197967 [20:36<16:00:53,  3.35it/s]/home/mlfavorfit/anaconda3/envs/diffusion_rnd/lib/python3.10/site-packages/PIL/Image.py:3186: DecompressionBombWarning: Image size (140966448 pixels) exceeds limit of 89478485 pixels, could be decompression bomb DOS attack.\n",
      "  warnings.warn(\n",
      "/home/mlfavorfit/anaconda3/envs/diffusion_rnd/lib/python3.10/site-packages/PIL/Image.py:3186: DecompressionBombWarning: Image size (94945536 pixels) exceeds limit of 89478485 pixels, could be decompression bomb DOS attack.\n",
      "  warnings.warn(\n",
      "  3%|▎         | 5951/197967 [24:51<11:19:52,  4.71it/s]/home/mlfavorfit/anaconda3/envs/diffusion_rnd/lib/python3.10/site-packages/PIL/Image.py:3186: DecompressionBombWarning: Image size (101756928 pixels) exceeds limit of 89478485 pixels, could be decompression bomb DOS attack.\n",
      "  warnings.warn(\n",
      "  3%|▎         | 6006/197967 [25:06<13:15:22,  4.02it/s]/home/mlfavorfit/anaconda3/envs/diffusion_rnd/lib/python3.10/site-packages/PIL/Image.py:3186: DecompressionBombWarning: Image size (94089600 pixels) exceeds limit of 89478485 pixels, could be decompression bomb DOS attack.\n",
      "  warnings.warn(\n",
      "  3%|▎         | 6173/197967 [25:47<17:06:19,  3.11it/s]/home/mlfavorfit/anaconda3/envs/diffusion_rnd/lib/python3.10/site-packages/PIL/Image.py:3186: DecompressionBombWarning: Image size (94556176 pixels) exceeds limit of 89478485 pixels, could be decompression bomb DOS attack.\n",
      "  warnings.warn(\n",
      "  3%|▎         | 6205/197967 [25:56<11:15:22,  4.73it/s]/home/mlfavorfit/anaconda3/envs/diffusion_rnd/lib/python3.10/site-packages/PIL/Image.py:3186: DecompressionBombWarning: Image size (92455000 pixels) exceeds limit of 89478485 pixels, could be decompression bomb DOS attack.\n",
      "  warnings.warn(\n",
      "  4%|▍         | 8761/197967 [35:43<19:45:25,  2.66it/s]/home/mlfavorfit/anaconda3/envs/diffusion_rnd/lib/python3.10/site-packages/PIL/Image.py:3186: DecompressionBombWarning: Image size (178733056 pixels) exceeds limit of 89478485 pixels, could be decompression bomb DOS attack.\n",
      "  warnings.warn(\n",
      "/home/mlfavorfit/anaconda3/envs/diffusion_rnd/lib/python3.10/site-packages/PIL/Image.py:3186: DecompressionBombWarning: Image size (119006281 pixels) exceeds limit of 89478485 pixels, could be decompression bomb DOS attack.\n",
      "  warnings.warn(\n",
      "  4%|▍         | 8852/197967 [36:03<8:53:10,  5.91it/s] /home/mlfavorfit/anaconda3/envs/diffusion_rnd/lib/python3.10/site-packages/PIL/Image.py:3186: DecompressionBombWarning: Image size (144018000 pixels) exceeds limit of 89478485 pixels, could be decompression bomb DOS attack.\n",
      "  warnings.warn(\n",
      "  5%|▍         | 9469/197967 [38:45<9:31:01,  5.50it/s] /home/mlfavorfit/anaconda3/envs/diffusion_rnd/lib/python3.10/site-packages/PIL/Image.py:3186: DecompressionBombWarning: Image size (138297600 pixels) exceeds limit of 89478485 pixels, could be decompression bomb DOS attack.\n",
      "  warnings.warn(\n",
      "/home/mlfavorfit/anaconda3/envs/diffusion_rnd/lib/python3.10/site-packages/PIL/Image.py:3186: DecompressionBombWarning: Image size (92236816 pixels) exceeds limit of 89478485 pixels, could be decompression bomb DOS attack.\n",
      "  warnings.warn(\n",
      "  5%|▍         | 9475/197967 [38:47<13:02:14,  4.02it/s]/home/mlfavorfit/anaconda3/envs/diffusion_rnd/lib/python3.10/site-packages/PIL/Image.py:3186: DecompressionBombWarning: Image size (173981696 pixels) exceeds limit of 89478485 pixels, could be decompression bomb DOS attack.\n",
      "  warnings.warn(\n",
      "/home/mlfavorfit/anaconda3/envs/diffusion_rnd/lib/python3.10/site-packages/PIL/Image.py:3186: DecompressionBombWarning: Image size (112763161 pixels) exceeds limit of 89478485 pixels, could be decompression bomb DOS attack.\n",
      "  warnings.warn(\n",
      "  5%|▍         | 9871/197967 [40:22<17:59:16,  2.90it/s]/home/mlfavorfit/anaconda3/envs/diffusion_rnd/lib/python3.10/site-packages/PIL/Image.py:3186: DecompressionBombWarning: Image size (96554460 pixels) exceeds limit of 89478485 pixels, could be decompression bomb DOS attack.\n",
      "  warnings.warn(\n",
      "  5%|▌         | 10859/197967 [44:34<15:05:53,  3.44it/s]/home/mlfavorfit/anaconda3/envs/diffusion_rnd/lib/python3.10/site-packages/PIL/Image.py:3186: DecompressionBombWarning: Image size (108576768 pixels) exceeds limit of 89478485 pixels, could be decompression bomb DOS attack.\n",
      "  warnings.warn(\n",
      "  6%|▌         | 11352/197967 [46:31<12:24:20,  4.18it/s]/home/mlfavorfit/anaconda3/envs/diffusion_rnd/lib/python3.10/site-packages/PIL/Image.py:3186: DecompressionBombWarning: Image size (95988000 pixels) exceeds limit of 89478485 pixels, could be decompression bomb DOS attack.\n",
      "  warnings.warn(\n",
      "  6%|▌         | 11444/197967 [46:54<15:02:03,  3.45it/s]/home/mlfavorfit/anaconda3/envs/diffusion_rnd/lib/python3.10/site-packages/PIL/Image.py:3186: DecompressionBombWarning: Image size (118254960 pixels) exceeds limit of 89478485 pixels, could be decompression bomb DOS attack.\n",
      "  warnings.warn(\n",
      "  7%|▋         | 14397/197967 [59:24<11:58:28,  4.26it/s]/home/mlfavorfit/anaconda3/envs/diffusion_rnd/lib/python3.10/site-packages/PIL/Image.py:3186: DecompressionBombWarning: Image size (178946048 pixels) exceeds limit of 89478485 pixels, could be decompression bomb DOS attack.\n",
      "  warnings.warn(\n",
      "/home/mlfavorfit/anaconda3/envs/diffusion_rnd/lib/python3.10/site-packages/PIL/Image.py:3186: DecompressionBombWarning: Image size (119290084 pixels) exceeds limit of 89478485 pixels, could be decompression bomb DOS attack.\n",
      "  warnings.warn(\n",
      "  8%|▊         | 16111/197967 [1:06:26<13:49:31,  3.65it/s]/home/mlfavorfit/anaconda3/envs/diffusion_rnd/lib/python3.10/site-packages/PIL/Image.py:3186: DecompressionBombWarning: Image size (98658000 pixels) exceeds limit of 89478485 pixels, could be decompression bomb DOS attack.\n",
      "  warnings.warn(\n",
      "  9%|▉         | 18224/197967 [1:15:06<9:41:46,  5.15it/s] /home/mlfavorfit/anaconda3/envs/diffusion_rnd/lib/python3.10/site-packages/PIL/Image.py:3186: DecompressionBombWarning: Image size (89804880 pixels) exceeds limit of 89478485 pixels, could be decompression bomb DOS attack.\n",
      "  warnings.warn(\n",
      "  9%|▉         | 18536/197967 [1:16:16<8:07:28,  6.13it/s] /home/mlfavorfit/anaconda3/envs/diffusion_rnd/lib/python3.10/site-packages/PIL/Image.py:3186: DecompressionBombWarning: Image size (124593750 pixels) exceeds limit of 89478485 pixels, could be decompression bomb DOS attack.\n",
      "  warnings.warn(\n",
      "/home/mlfavorfit/anaconda3/envs/diffusion_rnd/lib/python3.10/site-packages/PIL/Image.py:3186: DecompressionBombWarning: Image size (122655625 pixels) exceeds limit of 89478485 pixels, could be decompression bomb DOS attack.\n",
      "  warnings.warn(\n",
      "  9%|▉         | 18599/197967 [1:16:31<9:45:06,  5.11it/s] /home/mlfavorfit/anaconda3/envs/diffusion_rnd/lib/python3.10/site-packages/PIL/Image.py:3186: DecompressionBombWarning: Image size (149896800 pixels) exceeds limit of 89478485 pixels, could be decompression bomb DOS attack.\n",
      "  warnings.warn(\n",
      "/home/mlfavorfit/anaconda3/envs/diffusion_rnd/lib/python3.10/site-packages/PIL/Image.py:3186: DecompressionBombWarning: Image size (118810000 pixels) exceeds limit of 89478485 pixels, could be decompression bomb DOS attack.\n",
      "  warnings.warn(\n",
      "  9%|▉         | 18646/197967 [1:16:39<13:11:06,  3.78it/s]/home/mlfavorfit/anaconda3/envs/diffusion_rnd/lib/python3.10/site-packages/PIL/Image.py:3186: DecompressionBombWarning: Image size (124796800 pixels) exceeds limit of 89478485 pixels, could be decompression bomb DOS attack.\n",
      "  warnings.warn(\n",
      "/home/mlfavorfit/anaconda3/envs/diffusion_rnd/lib/python3.10/site-packages/PIL/Image.py:3186: DecompressionBombWarning: Image size (111851776 pixels) exceeds limit of 89478485 pixels, could be decompression bomb DOS attack.\n",
      "  warnings.warn(\n",
      "  9%|▉         | 18649/197967 [1:16:41<22:22:15,  2.23it/s]/home/mlfavorfit/anaconda3/envs/diffusion_rnd/lib/python3.10/site-packages/PIL/Image.py:3186: DecompressionBombWarning: Image size (144000000 pixels) exceeds limit of 89478485 pixels, could be decompression bomb DOS attack.\n",
      "  warnings.warn(\n",
      " 10%|█         | 19956/197967 [1:22:14<15:25:05,  3.21it/s]/home/mlfavorfit/anaconda3/envs/diffusion_rnd/lib/python3.10/site-packages/PIL/Image.py:3186: DecompressionBombWarning: Image size (138240000 pixels) exceeds limit of 89478485 pixels, could be decompression bomb DOS attack.\n",
      "  warnings.warn(\n",
      "/home/mlfavorfit/anaconda3/envs/diffusion_rnd/lib/python3.10/site-packages/PIL/Image.py:3186: DecompressionBombWarning: Image size (92160000 pixels) exceeds limit of 89478485 pixels, could be decompression bomb DOS attack.\n",
      "  warnings.warn(\n",
      " 11%|█         | 20978/197967 [1:26:08<8:10:55,  6.01it/s] /home/mlfavorfit/anaconda3/envs/diffusion_rnd/lib/python3.10/site-packages/PIL/Image.py:3186: DecompressionBombWarning: Image size (111096888 pixels) exceeds limit of 89478485 pixels, could be decompression bomb DOS attack.\n",
      "  warnings.warn(\n",
      " 11%|█         | 20996/197967 [1:26:13<7:49:47,  6.28it/s] /home/mlfavorfit/anaconda3/envs/diffusion_rnd/lib/python3.10/site-packages/PIL/Image.py:3186: DecompressionBombWarning: Image size (102837600 pixels) exceeds limit of 89478485 pixels, could be decompression bomb DOS attack.\n",
      "  warnings.warn(\n",
      " 11%|█         | 22114/197967 [1:30:50<10:50:58,  4.50it/s]/home/mlfavorfit/anaconda3/envs/diffusion_rnd/lib/python3.10/site-packages/PIL/Image.py:3186: DecompressionBombWarning: Image size (110836250 pixels) exceeds limit of 89478485 pixels, could be decompression bomb DOS attack.\n",
      "  warnings.warn(\n",
      " 11%|█         | 22187/197967 [1:31:09<30:15:52,  1.61it/s]/home/mlfavorfit/anaconda3/envs/diffusion_rnd/lib/python3.10/site-packages/PIL/Image.py:3186: DecompressionBombWarning: Image size (95373558 pixels) exceeds limit of 89478485 pixels, could be decompression bomb DOS attack.\n",
      "  warnings.warn(\n",
      " 11%|█▏        | 22721/197967 [1:33:50<10:14:12,  4.76it/s]/home/mlfavorfit/anaconda3/envs/diffusion_rnd/lib/python3.10/site-packages/PIL/Image.py:3186: DecompressionBombWarning: Image size (101301816 pixels) exceeds limit of 89478485 pixels, could be decompression bomb DOS attack.\n",
      "  warnings.warn(\n",
      " 12%|█▏        | 23444/197967 [1:37:07<12:40:18,  3.83it/s]/home/mlfavorfit/anaconda3/envs/diffusion_rnd/lib/python3.10/site-packages/PIL/Image.py:3186: DecompressionBombWarning: Image size (98568000 pixels) exceeds limit of 89478485 pixels, could be decompression bomb DOS attack.\n",
      "  warnings.warn(\n",
      " 13%|█▎        | 25252/197967 [1:44:48<10:54:17,  4.40it/s]/home/mlfavorfit/anaconda3/envs/diffusion_rnd/lib/python3.10/site-packages/PIL/Image.py:3186: DecompressionBombWarning: Image size (101082464 pixels) exceeds limit of 89478485 pixels, could be decompression bomb DOS attack.\n",
      "  warnings.warn(\n",
      " 13%|█▎        | 25767/197967 [1:46:44<14:17:42,  3.35it/s]/home/mlfavorfit/anaconda3/envs/diffusion_rnd/lib/python3.10/site-packages/PIL/Image.py:3186: DecompressionBombWarning: Image size (99997751 pixels) exceeds limit of 89478485 pixels, could be decompression bomb DOS attack.\n",
      "  warnings.warn(\n",
      " 13%|█▎        | 25829/197967 [1:47:01<12:30:07,  3.82it/s]/home/mlfavorfit/anaconda3/envs/diffusion_rnd/lib/python3.10/site-packages/PIL/Image.py:3186: DecompressionBombWarning: Image size (104760000 pixels) exceeds limit of 89478485 pixels, could be decompression bomb DOS attack.\n",
      "  warnings.warn(\n",
      " 13%|█▎        | 25861/197967 [1:47:11<18:50:55,  2.54it/s]/home/mlfavorfit/anaconda3/envs/diffusion_rnd/lib/python3.10/site-packages/PIL/Image.py:3186: DecompressionBombWarning: Image size (104040000 pixels) exceeds limit of 89478485 pixels, could be decompression bomb DOS attack.\n",
      "  warnings.warn(\n",
      " 14%|█▍        | 28069/197967 [1:56:13<13:18:11,  3.55it/s]/home/mlfavorfit/anaconda3/envs/diffusion_rnd/lib/python3.10/site-packages/PIL/Image.py:3186: DecompressionBombWarning: Image size (178913280 pixels) exceeds limit of 89478485 pixels, could be decompression bomb DOS attack.\n",
      "  warnings.warn(\n",
      "/home/mlfavorfit/anaconda3/envs/diffusion_rnd/lib/python3.10/site-packages/PIL/Image.py:3186: DecompressionBombWarning: Image size (119246400 pixels) exceeds limit of 89478485 pixels, could be decompression bomb DOS attack.\n",
      "  warnings.warn(\n",
      " 15%|█▍        | 29048/197967 [2:00:15<10:09:10,  4.62it/s]/home/mlfavorfit/anaconda3/envs/diffusion_rnd/lib/python3.10/site-packages/PIL/Image.py:3186: DecompressionBombWarning: Image size (94386006 pixels) exceeds limit of 89478485 pixels, could be decompression bomb DOS attack.\n",
      "  warnings.warn(\n",
      " 15%|█▍        | 29178/197967 [2:00:48<11:31:23,  4.07it/s]/home/mlfavorfit/anaconda3/envs/diffusion_rnd/lib/python3.10/site-packages/PIL/Image.py:3186: DecompressionBombWarning: Image size (130965504 pixels) exceeds limit of 89478485 pixels, could be decompression bomb DOS attack.\n",
      "  warnings.warn(\n",
      " 15%|█▌        | 30600/197967 [2:06:22<8:36:09,  5.40it/s] /home/mlfavorfit/anaconda3/envs/diffusion_rnd/lib/python3.10/site-packages/PIL/Image.py:3186: DecompressionBombWarning: Image size (95825664 pixels) exceeds limit of 89478485 pixels, could be decompression bomb DOS attack.\n",
      "  warnings.warn(\n",
      " 16%|█▌        | 31596/197967 [2:10:21<10:03:37,  4.59it/s]/home/mlfavorfit/anaconda3/envs/diffusion_rnd/lib/python3.10/site-packages/PIL/Image.py:3186: DecompressionBombWarning: Image size (112216448 pixels) exceeds limit of 89478485 pixels, could be decompression bomb DOS attack.\n",
      "  warnings.warn(\n",
      " 17%|█▋        | 33995/197967 [2:19:52<15:26:26,  2.95it/s]/home/mlfavorfit/anaconda3/envs/diffusion_rnd/lib/python3.10/site-packages/PIL/Image.py:3186: DecompressionBombWarning: Image size (149998464 pixels) exceeds limit of 89478485 pixels, could be decompression bomb DOS attack.\n",
      "  warnings.warn(\n",
      "/home/mlfavorfit/anaconda3/envs/diffusion_rnd/lib/python3.10/site-packages/PIL/Image.py:3186: DecompressionBombWarning: Image size (100641024 pixels) exceeds limit of 89478485 pixels, could be decompression bomb DOS attack.\n",
      "  warnings.warn(\n",
      " 18%|█▊        | 34773/197967 [2:23:12<13:19:25,  3.40it/s]/home/mlfavorfit/anaconda3/envs/diffusion_rnd/lib/python3.10/site-packages/PIL/Image.py:3186: DecompressionBombWarning: Image size (150000000 pixels) exceeds limit of 89478485 pixels, could be decompression bomb DOS attack.\n",
      "  warnings.warn(\n",
      " 18%|█▊        | 36152/197967 [2:29:20<12:00:00,  3.75it/s]/home/mlfavorfit/anaconda3/envs/diffusion_rnd/lib/python3.10/site-packages/PIL/Image.py:3186: DecompressionBombWarning: Image size (92321495 pixels) exceeds limit of 89478485 pixels, could be decompression bomb DOS attack.\n",
      "  warnings.warn(\n",
      " 20%|██        | 40085/197967 [2:45:26<13:11:44,  3.32it/s]/home/mlfavorfit/anaconda3/envs/diffusion_rnd/lib/python3.10/site-packages/PIL/Image.py:3186: DecompressionBombWarning: Image size (157753600 pixels) exceeds limit of 89478485 pixels, could be decompression bomb DOS attack.\n",
      "  warnings.warn(\n",
      " 20%|██        | 40350/197967 [2:46:36<9:55:13,  4.41it/s] /home/mlfavorfit/anaconda3/envs/diffusion_rnd/lib/python3.10/site-packages/PIL/Image.py:3186: DecompressionBombWarning: Image size (133670400 pixels) exceeds limit of 89478485 pixels, could be decompression bomb DOS attack.\n",
      "  warnings.warn(\n",
      " 22%|██▏       | 42695/197967 [2:56:39<11:01:48,  3.91it/s]/home/mlfavorfit/anaconda3/envs/diffusion_rnd/lib/python3.10/site-packages/PIL/Image.py:3186: DecompressionBombWarning: Image size (90126355 pixels) exceeds limit of 89478485 pixels, could be decompression bomb DOS attack.\n",
      "  warnings.warn(\n",
      " 22%|██▏       | 42941/197967 [2:57:47<11:21:49,  3.79it/s]/home/mlfavorfit/anaconda3/envs/diffusion_rnd/lib/python3.10/site-packages/PIL/Image.py:3186: DecompressionBombWarning: Image size (95095000 pixels) exceeds limit of 89478485 pixels, could be decompression bomb DOS attack.\n",
      "  warnings.warn(\n",
      " 22%|██▏       | 43949/197967 [3:01:50<11:10:31,  3.83it/s]/home/mlfavorfit/anaconda3/envs/diffusion_rnd/lib/python3.10/site-packages/PIL/Image.py:3186: DecompressionBombWarning: Image size (89996400 pixels) exceeds limit of 89478485 pixels, could be decompression bomb DOS attack.\n",
      "  warnings.warn(\n",
      " 23%|██▎       | 45866/197967 [3:09:35<8:08:18,  5.19it/s] /home/mlfavorfit/anaconda3/envs/diffusion_rnd/lib/python3.10/site-packages/PIL/Image.py:3186: DecompressionBombWarning: Image size (126600000 pixels) exceeds limit of 89478485 pixels, could be decompression bomb DOS attack.\n",
      "  warnings.warn(\n",
      " 24%|██▎       | 46894/197967 [3:13:49<13:15:22,  3.17it/s]/home/mlfavorfit/anaconda3/envs/diffusion_rnd/lib/python3.10/site-packages/PIL/Image.py:3186: DecompressionBombWarning: Image size (144609280 pixels) exceeds limit of 89478485 pixels, could be decompression bomb DOS attack.\n",
      "  warnings.warn(\n",
      "/home/mlfavorfit/anaconda3/envs/diffusion_rnd/lib/python3.10/site-packages/PIL/Image.py:3186: DecompressionBombWarning: Image size (96510976 pixels) exceeds limit of 89478485 pixels, could be decompression bomb DOS attack.\n",
      "  warnings.warn(\n",
      " 24%|██▍       | 47373/197967 [3:15:50<10:14:31,  4.08it/s]/home/mlfavorfit/anaconda3/envs/diffusion_rnd/lib/python3.10/site-packages/PIL/Image.py:3186: DecompressionBombWarning: Image size (101606400 pixels) exceeds limit of 89478485 pixels, could be decompression bomb DOS attack.\n",
      "  warnings.warn(\n",
      " 25%|██▍       | 48742/197967 [3:21:16<11:33:13,  3.59it/s]/home/mlfavorfit/anaconda3/envs/diffusion_rnd/lib/python3.10/site-packages/PIL/Image.py:3186: DecompressionBombWarning: Image size (102300104 pixels) exceeds limit of 89478485 pixels, could be decompression bomb DOS attack.\n",
      "  warnings.warn(\n",
      " 25%|██▍       | 49265/197967 [3:23:42<16:26:08,  2.51it/s]/home/mlfavorfit/anaconda3/envs/diffusion_rnd/lib/python3.10/site-packages/PIL/Image.py:3186: DecompressionBombWarning: Image size (132710400 pixels) exceeds limit of 89478485 pixels, could be decompression bomb DOS attack.\n",
      "  warnings.warn(\n",
      " 25%|██▍       | 49427/197967 [3:24:27<8:11:18,  5.04it/s] /home/mlfavorfit/anaconda3/envs/diffusion_rnd/lib/python3.10/site-packages/PIL/Image.py:3186: DecompressionBombWarning: Image size (95300996 pixels) exceeds limit of 89478485 pixels, could be decompression bomb DOS attack.\n",
      "  warnings.warn(\n",
      " 26%|██▌       | 50742/197967 [3:29:58<6:08:36,  6.66it/s] /home/mlfavorfit/anaconda3/envs/diffusion_rnd/lib/python3.10/site-packages/PIL/Image.py:3186: DecompressionBombWarning: Image size (102936776 pixels) exceeds limit of 89478485 pixels, could be decompression bomb DOS attack.\n",
      "  warnings.warn(\n",
      " 26%|██▌       | 51538/197967 [3:33:08<8:23:18,  4.85it/s] /home/mlfavorfit/anaconda3/envs/diffusion_rnd/lib/python3.10/site-packages/PIL/Image.py:3186: DecompressionBombWarning: Image size (99187500 pixels) exceeds limit of 89478485 pixels, could be decompression bomb DOS attack.\n",
      "  warnings.warn(\n",
      " 26%|██▌       | 51547/197967 [3:33:10<8:57:10,  4.54it/s] /home/mlfavorfit/anaconda3/envs/diffusion_rnd/lib/python3.10/site-packages/PIL/Image.py:3186: DecompressionBombWarning: Image size (108000000 pixels) exceeds limit of 89478485 pixels, could be decompression bomb DOS attack.\n",
      "  warnings.warn(\n",
      " 26%|██▌       | 51820/197967 [3:34:20<7:49:48,  5.18it/s] /home/mlfavorfit/anaconda3/envs/diffusion_rnd/lib/python3.10/site-packages/PIL/Image.py:3186: DecompressionBombWarning: Image size (92352000 pixels) exceeds limit of 89478485 pixels, could be decompression bomb DOS attack.\n",
      "  warnings.warn(\n",
      " 26%|██▋       | 52314/197967 [3:36:20<7:28:52,  5.41it/s] /home/mlfavorfit/anaconda3/envs/diffusion_rnd/lib/python3.10/site-packages/PIL/Image.py:3186: DecompressionBombWarning: Image size (90215776 pixels) exceeds limit of 89478485 pixels, could be decompression bomb DOS attack.\n",
      "  warnings.warn(\n",
      " 27%|██▋       | 52745/197967 [3:38:05<8:06:47,  4.97it/s] /home/mlfavorfit/anaconda3/envs/diffusion_rnd/lib/python3.10/site-packages/PIL/Image.py:3186: DecompressionBombWarning: Image size (104175000 pixels) exceeds limit of 89478485 pixels, could be decompression bomb DOS attack.\n",
      "  warnings.warn(\n",
      " 27%|██▋       | 54291/197967 [3:44:33<7:55:28,  5.04it/s] /home/mlfavorfit/anaconda3/envs/diffusion_rnd/lib/python3.10/site-packages/PIL/Image.py:3186: DecompressionBombWarning: Image size (98415000 pixels) exceeds limit of 89478485 pixels, could be decompression bomb DOS attack.\n",
      "  warnings.warn(\n",
      " 28%|██▊       | 54658/197967 [3:46:06<8:27:41,  4.70it/s] /home/mlfavorfit/anaconda3/envs/diffusion_rnd/lib/python3.10/site-packages/PIL/Image.py:3186: DecompressionBombWarning: Image size (129990000 pixels) exceeds limit of 89478485 pixels, could be decompression bomb DOS attack.\n",
      "  warnings.warn(\n",
      " 28%|██▊       | 55732/197967 [3:50:09<6:03:46,  6.52it/s] /home/mlfavorfit/anaconda3/envs/diffusion_rnd/lib/python3.10/site-packages/PIL/Image.py:3186: DecompressionBombWarning: Image size (146655005 pixels) exceeds limit of 89478485 pixels, could be decompression bomb DOS attack.\n",
      "  warnings.warn(\n",
      "/home/mlfavorfit/anaconda3/envs/diffusion_rnd/lib/python3.10/site-packages/PIL/Image.py:3186: DecompressionBombWarning: Image size (143161225 pixels) exceeds limit of 89478485 pixels, could be decompression bomb DOS attack.\n",
      "  warnings.warn(\n",
      " 28%|██▊       | 55784/197967 [3:50:19<3:34:23, 11.05it/s] /home/mlfavorfit/anaconda3/envs/diffusion_rnd/lib/python3.10/site-packages/PIL/Image.py:3186: DecompressionBombWarning: Image size (150381169 pixels) exceeds limit of 89478485 pixels, could be decompression bomb DOS attack.\n",
      "  warnings.warn(\n",
      " 29%|██▊       | 56754/197967 [3:53:52<14:20:10,  2.74it/s]/home/mlfavorfit/anaconda3/envs/diffusion_rnd/lib/python3.10/site-packages/PIL/Image.py:3186: DecompressionBombWarning: Image size (100712448 pixels) exceeds limit of 89478485 pixels, could be decompression bomb DOS attack.\n",
      "  warnings.warn(\n",
      " 31%|███       | 61075/197967 [4:10:55<9:02:36,  4.20it/s] /home/mlfavorfit/anaconda3/envs/diffusion_rnd/lib/python3.10/site-packages/PIL/Image.py:3186: DecompressionBombWarning: Image size (99715234 pixels) exceeds limit of 89478485 pixels, could be decompression bomb DOS attack.\n",
      "  warnings.warn(\n",
      " 31%|███       | 61586/197967 [4:13:00<5:37:56,  6.73it/s] /home/mlfavorfit/anaconda3/envs/diffusion_rnd/lib/python3.10/site-packages/PIL/Image.py:3186: DecompressionBombWarning: Image size (153225000 pixels) exceeds limit of 89478485 pixels, could be decompression bomb DOS attack.\n",
      "  warnings.warn(\n",
      "/home/mlfavorfit/anaconda3/envs/diffusion_rnd/lib/python3.10/site-packages/PIL/Image.py:3186: DecompressionBombWarning: Image size (104346225 pixels) exceeds limit of 89478485 pixels, could be decompression bomb DOS attack.\n",
      "  warnings.warn(\n",
      " 31%|███       | 61722/197967 [4:13:29<8:21:33,  4.53it/s] /home/mlfavorfit/anaconda3/envs/diffusion_rnd/lib/python3.10/site-packages/PIL/Image.py:3186: DecompressionBombWarning: Image size (150978560 pixels) exceeds limit of 89478485 pixels, could be decompression bomb DOS attack.\n",
      "  warnings.warn(\n",
      " 32%|███▏      | 62956/197967 [4:18:36<7:48:39,  4.80it/s] /home/mlfavorfit/anaconda3/envs/diffusion_rnd/lib/python3.10/site-packages/PIL/Image.py:3186: DecompressionBombWarning: Image size (106451590 pixels) exceeds limit of 89478485 pixels, could be decompression bomb DOS attack.\n",
      "  warnings.warn(\n",
      " 32%|███▏      | 63706/197967 [4:21:15<5:41:57,  6.54it/s] /home/mlfavorfit/anaconda3/envs/diffusion_rnd/lib/python3.10/site-packages/PIL/Image.py:3186: DecompressionBombWarning: Image size (118333728 pixels) exceeds limit of 89478485 pixels, could be decompression bomb DOS attack.\n",
      "  warnings.warn(\n",
      " 33%|███▎      | 64762/197967 [4:25:21<10:35:02,  3.50it/s]/home/mlfavorfit/anaconda3/envs/diffusion_rnd/lib/python3.10/site-packages/PIL/Image.py:3186: DecompressionBombWarning: Image size (97450225 pixels) exceeds limit of 89478485 pixels, could be decompression bomb DOS attack.\n",
      "  warnings.warn(\n",
      " 34%|███▍      | 66943/197967 [4:34:05<7:33:03,  4.82it/s] /home/mlfavorfit/anaconda3/envs/diffusion_rnd/lib/python3.10/site-packages/PIL/Image.py:3186: DecompressionBombWarning: Image size (114923520 pixels) exceeds limit of 89478485 pixels, could be decompression bomb DOS attack.\n",
      "  warnings.warn(\n",
      " 36%|███▌      | 70689/197967 [4:48:34<8:38:25,  4.09it/s] /home/mlfavorfit/anaconda3/envs/diffusion_rnd/lib/python3.10/site-packages/PIL/Image.py:3186: DecompressionBombWarning: Image size (91856100 pixels) exceeds limit of 89478485 pixels, could be decompression bomb DOS attack.\n",
      "  warnings.warn(\n",
      " 36%|███▋      | 71954/197967 [4:53:49<3:34:14,  9.80it/s] /home/mlfavorfit/anaconda3/envs/diffusion_rnd/lib/python3.10/site-packages/PIL/Image.py:3186: DecompressionBombWarning: Image size (92376000 pixels) exceeds limit of 89478485 pixels, could be decompression bomb DOS attack.\n",
      "  warnings.warn(\n",
      " 37%|███▋      | 72505/197967 [4:55:58<8:23:39,  4.15it/s] /home/mlfavorfit/anaconda3/envs/diffusion_rnd/lib/python3.10/site-packages/PIL/Image.py:3186: DecompressionBombWarning: Image size (150994944 pixels) exceeds limit of 89478485 pixels, could be decompression bomb DOS attack.\n",
      "  warnings.warn(\n",
      " 37%|███▋      | 72723/197967 [4:56:58<9:21:58,  3.71it/s] /home/mlfavorfit/anaconda3/envs/diffusion_rnd/lib/python3.10/site-packages/PIL/Image.py:3186: DecompressionBombWarning: Image size (89584000 pixels) exceeds limit of 89478485 pixels, could be decompression bomb DOS attack.\n",
      "  warnings.warn(\n",
      " 37%|███▋      | 72936/197967 [4:57:55<8:49:31,  3.94it/s] /home/mlfavorfit/anaconda3/envs/diffusion_rnd/lib/python3.10/site-packages/PIL/Image.py:3186: DecompressionBombWarning: Image size (100691030 pixels) exceeds limit of 89478485 pixels, could be decompression bomb DOS attack.\n",
      "  warnings.warn(\n",
      " 37%|███▋      | 73182/197967 [4:59:06<10:44:08,  3.23it/s]/home/mlfavorfit/anaconda3/envs/diffusion_rnd/lib/python3.10/site-packages/PIL/Image.py:3186: DecompressionBombWarning: Image size (178929664 pixels) exceeds limit of 89478485 pixels, could be decompression bomb DOS attack.\n",
      "  warnings.warn(\n",
      "/home/mlfavorfit/anaconda3/envs/diffusion_rnd/lib/python3.10/site-packages/PIL/Image.py:3186: DecompressionBombWarning: Image size (119268241 pixels) exceeds limit of 89478485 pixels, could be decompression bomb DOS attack.\n",
      "  warnings.warn(\n",
      " 38%|███▊      | 74544/197967 [5:04:41<5:56:52,  5.76it/s] /home/mlfavorfit/anaconda3/envs/diffusion_rnd/lib/python3.10/site-packages/PIL/Image.py:3186: DecompressionBombWarning: Image size (92402352 pixels) exceeds limit of 89478485 pixels, could be decompression bomb DOS attack.\n",
      "  warnings.warn(\n",
      " 38%|███▊      | 74682/197967 [5:05:12<8:09:17,  4.20it/s] /home/mlfavorfit/anaconda3/envs/diffusion_rnd/lib/python3.10/site-packages/PIL/Image.py:3186: DecompressionBombWarning: Image size (90233304 pixels) exceeds limit of 89478485 pixels, could be decompression bomb DOS attack.\n",
      "  warnings.warn(\n",
      " 38%|███▊      | 74746/197967 [5:05:28<8:01:40,  4.26it/s] /home/mlfavorfit/anaconda3/envs/diffusion_rnd/lib/python3.10/site-packages/PIL/Image.py:3186: DecompressionBombWarning: Image size (92465152 pixels) exceeds limit of 89478485 pixels, could be decompression bomb DOS attack.\n",
      "  warnings.warn(\n",
      " 38%|███▊      | 75181/197967 [5:07:16<10:05:38,  3.38it/s]/home/mlfavorfit/anaconda3/envs/diffusion_rnd/lib/python3.10/site-packages/PIL/Image.py:3186: DecompressionBombWarning: Image size (99576864 pixels) exceeds limit of 89478485 pixels, could be decompression bomb DOS attack.\n",
      "  warnings.warn(\n",
      " 39%|███▊      | 76601/197967 [5:13:09<7:26:59,  4.53it/s] /home/mlfavorfit/anaconda3/envs/diffusion_rnd/lib/python3.10/site-packages/PIL/Image.py:3186: DecompressionBombWarning: Image size (99680256 pixels) exceeds limit of 89478485 pixels, could be decompression bomb DOS attack.\n",
      "  warnings.warn(\n",
      " 39%|███▉      | 77981/197967 [5:18:34<9:17:39,  3.59it/s] /home/mlfavorfit/anaconda3/envs/diffusion_rnd/lib/python3.10/site-packages/PIL/Image.py:3186: DecompressionBombWarning: Image size (94712000 pixels) exceeds limit of 89478485 pixels, could be decompression bomb DOS attack.\n",
      "  warnings.warn(\n",
      " 40%|███▉      | 78752/197967 [5:21:47<8:44:00,  3.79it/s] /home/mlfavorfit/anaconda3/envs/diffusion_rnd/lib/python3.10/site-packages/PIL/Image.py:3186: DecompressionBombWarning: Image size (103208256 pixels) exceeds limit of 89478485 pixels, could be decompression bomb DOS attack.\n",
      "  warnings.warn(\n",
      " 40%|███▉      | 78874/197967 [5:22:25<8:50:39,  3.74it/s] /home/mlfavorfit/anaconda3/envs/diffusion_rnd/lib/python3.10/site-packages/PIL/Image.py:3186: DecompressionBombWarning: Image size (100413138 pixels) exceeds limit of 89478485 pixels, could be decompression bomb DOS attack.\n",
      "  warnings.warn(\n",
      " 40%|████      | 79804/197967 [5:26:16<1:57:10, 16.81it/s] /home/mlfavorfit/anaconda3/envs/diffusion_rnd/lib/python3.10/site-packages/PIL/Image.py:3186: DecompressionBombWarning: Image size (94898272 pixels) exceeds limit of 89478485 pixels, could be decompression bomb DOS attack.\n",
      "  warnings.warn(\n",
      " 41%|████      | 81071/197967 [5:31:20<7:14:43,  4.48it/s] /home/mlfavorfit/anaconda3/envs/diffusion_rnd/lib/python3.10/site-packages/PIL/Image.py:3186: DecompressionBombWarning: Image size (95992000 pixels) exceeds limit of 89478485 pixels, could be decompression bomb DOS attack.\n",
      "  warnings.warn(\n",
      " 41%|████      | 81594/197967 [5:33:24<7:42:10,  4.20it/s] /home/mlfavorfit/anaconda3/envs/diffusion_rnd/lib/python3.10/site-packages/PIL/Image.py:3186: DecompressionBombWarning: Image size (98983458 pixels) exceeds limit of 89478485 pixels, could be decompression bomb DOS attack.\n",
      "  warnings.warn(\n",
      " 41%|████▏     | 82017/197967 [5:35:03<6:50:47,  4.70it/s] /home/mlfavorfit/anaconda3/envs/diffusion_rnd/lib/python3.10/site-packages/PIL/Image.py:3186: DecompressionBombWarning: Image size (99944734 pixels) exceeds limit of 89478485 pixels, could be decompression bomb DOS attack.\n",
      "  warnings.warn(\n",
      " 41%|████▏     | 82121/197967 [5:35:28<6:45:18,  4.76it/s] /home/mlfavorfit/anaconda3/envs/diffusion_rnd/lib/python3.10/site-packages/PIL/Image.py:3186: DecompressionBombWarning: Image size (92785280 pixels) exceeds limit of 89478485 pixels, could be decompression bomb DOS attack.\n",
      "  warnings.warn(\n",
      " 42%|████▏     | 82379/197967 [5:36:25<6:34:34,  4.88it/s] /home/mlfavorfit/anaconda3/envs/diffusion_rnd/lib/python3.10/site-packages/PIL/Image.py:3186: DecompressionBombWarning: Image size (115200000 pixels) exceeds limit of 89478485 pixels, could be decompression bomb DOS attack.\n",
      "  warnings.warn(\n",
      " 43%|████▎     | 84388/197967 [5:44:46<6:56:33,  4.54it/s] /home/mlfavorfit/anaconda3/envs/diffusion_rnd/lib/python3.10/site-packages/PIL/Image.py:3186: DecompressionBombWarning: Image size (155520000 pixels) exceeds limit of 89478485 pixels, could be decompression bomb DOS attack.\n",
      "  warnings.warn(\n",
      "/home/mlfavorfit/anaconda3/envs/diffusion_rnd/lib/python3.10/site-packages/PIL/Image.py:3186: DecompressionBombWarning: Image size (116640000 pixels) exceeds limit of 89478485 pixels, could be decompression bomb DOS attack.\n",
      "  warnings.warn(\n",
      " 43%|████▎     | 84471/197967 [5:45:05<7:09:30,  4.40it/s] /home/mlfavorfit/anaconda3/envs/diffusion_rnd/lib/python3.10/site-packages/PIL/Image.py:3186: DecompressionBombWarning: Image size (131217025 pixels) exceeds limit of 89478485 pixels, could be decompression bomb DOS attack.\n",
      "  warnings.warn(\n",
      " 44%|████▍     | 87184/197967 [5:55:29<5:50:21,  5.27it/s] /home/mlfavorfit/anaconda3/envs/diffusion_rnd/lib/python3.10/site-packages/PIL/Image.py:3186: DecompressionBombWarning: Image size (89898840 pixels) exceeds limit of 89478485 pixels, could be decompression bomb DOS attack.\n",
      "  warnings.warn(\n",
      " 44%|████▍     | 87263/197967 [5:55:49<6:04:32,  5.06it/s] /home/mlfavorfit/anaconda3/envs/diffusion_rnd/lib/python3.10/site-packages/PIL/Image.py:3186: DecompressionBombWarning: Image size (93334115 pixels) exceeds limit of 89478485 pixels, could be decompression bomb DOS attack.\n",
      "  warnings.warn(\n",
      " 45%|████▍     | 88696/197967 [6:01:38<5:29:12,  5.53it/s] /home/mlfavorfit/anaconda3/envs/diffusion_rnd/lib/python3.10/site-packages/PIL/Image.py:3186: DecompressionBombWarning: Image size (99976344 pixels) exceeds limit of 89478485 pixels, could be decompression bomb DOS attack.\n",
      "  warnings.warn(\n",
      " 45%|████▌     | 89191/197967 [6:03:35<7:17:14,  4.15it/s] /home/mlfavorfit/anaconda3/envs/diffusion_rnd/lib/python3.10/site-packages/PIL/Image.py:3186: DecompressionBombWarning: Image size (91300000 pixels) exceeds limit of 89478485 pixels, could be decompression bomb DOS attack.\n",
      "  warnings.warn(\n",
      " 45%|████▌     | 89244/197967 [6:03:48<6:33:22,  4.61it/s] /home/mlfavorfit/anaconda3/envs/diffusion_rnd/lib/python3.10/site-packages/PIL/Image.py:3186: DecompressionBombWarning: Image size (115000000 pixels) exceeds limit of 89478485 pixels, could be decompression bomb DOS attack.\n",
      "  warnings.warn(\n",
      " 46%|████▋     | 91935/197967 [6:14:25<5:42:21,  5.16it/s] /home/mlfavorfit/anaconda3/envs/diffusion_rnd/lib/python3.10/site-packages/PIL/Image.py:3186: DecompressionBombWarning: Image size (108020682 pixels) exceeds limit of 89478485 pixels, could be decompression bomb DOS attack.\n",
      "  warnings.warn(\n",
      " 47%|████▋     | 92560/197967 [6:16:52<7:04:46,  4.14it/s] /home/mlfavorfit/anaconda3/envs/diffusion_rnd/lib/python3.10/site-packages/PIL/Image.py:3186: DecompressionBombWarning: Image size (150234049 pixels) exceeds limit of 89478485 pixels, could be decompression bomb DOS attack.\n",
      "  warnings.warn(\n",
      " 47%|████▋     | 92898/197967 [6:18:13<5:20:45,  5.46it/s] /home/mlfavorfit/anaconda3/envs/diffusion_rnd/lib/python3.10/site-packages/PIL/Image.py:3186: DecompressionBombWarning: Image size (160619525 pixels) exceeds limit of 89478485 pixels, could be decompression bomb DOS attack.\n",
      "  warnings.warn(\n",
      "/home/mlfavorfit/anaconda3/envs/diffusion_rnd/lib/python3.10/site-packages/PIL/Image.py:3186: DecompressionBombWarning: Image size (155875225 pixels) exceeds limit of 89478485 pixels, could be decompression bomb DOS attack.\n",
      "  warnings.warn(\n",
      " 47%|████▋     | 93335/197967 [6:20:06<5:53:42,  4.93it/s] /home/mlfavorfit/anaconda3/envs/diffusion_rnd/lib/python3.10/site-packages/PIL/Image.py:3186: DecompressionBombWarning: Image size (173420506 pixels) exceeds limit of 89478485 pixels, could be decompression bomb DOS attack.\n",
      "  warnings.warn(\n",
      "/home/mlfavorfit/anaconda3/envs/diffusion_rnd/lib/python3.10/site-packages/PIL/Image.py:3186: DecompressionBombWarning: Image size (131308681 pixels) exceeds limit of 89478485 pixels, could be decompression bomb DOS attack.\n",
      "  warnings.warn(\n",
      " 47%|████▋     | 93838/197967 [6:22:05<9:02:24,  3.20it/s] /home/mlfavorfit/anaconda3/envs/diffusion_rnd/lib/python3.10/site-packages/PIL/Image.py:3186: DecompressionBombWarning: Image size (92020500 pixels) exceeds limit of 89478485 pixels, could be decompression bomb DOS attack.\n",
      "  warnings.warn(\n",
      " 49%|████▉     | 97434/197967 [6:35:48<9:17:17,  3.01it/s] /home/mlfavorfit/anaconda3/envs/diffusion_rnd/lib/python3.10/site-packages/PIL/Image.py:3186: DecompressionBombWarning: Image size (91430521 pixels) exceeds limit of 89478485 pixels, could be decompression bomb DOS attack.\n",
      "  warnings.warn(\n",
      " 50%|█████     | 99819/197967 [6:45:38<7:44:58,  3.52it/s] /home/mlfavorfit/anaconda3/envs/diffusion_rnd/lib/python3.10/site-packages/PIL/Image.py:3186: DecompressionBombWarning: Image size (102960000 pixels) exceeds limit of 89478485 pixels, could be decompression bomb DOS attack.\n",
      "  warnings.warn(\n",
      " 50%|█████     | 99831/197967 [6:45:43<15:22:37,  1.77it/s]/home/mlfavorfit/anaconda3/envs/diffusion_rnd/lib/python3.10/site-packages/PIL/Image.py:3186: DecompressionBombWarning: Image size (122880000 pixels) exceeds limit of 89478485 pixels, could be decompression bomb DOS attack.\n",
      "  warnings.warn(\n",
      " 51%|█████     | 100214/197967 [6:47:35<7:37:42,  3.56it/s] /home/mlfavorfit/anaconda3/envs/diffusion_rnd/lib/python3.10/site-packages/PIL/Image.py:3186: DecompressionBombWarning: Image size (108477024 pixels) exceeds limit of 89478485 pixels, could be decompression bomb DOS attack.\n",
      "  warnings.warn(\n",
      " 51%|█████     | 100480/197967 [6:48:42<7:38:39,  3.54it/s] /home/mlfavorfit/anaconda3/envs/diffusion_rnd/lib/python3.10/site-packages/PIL/Image.py:3186: DecompressionBombWarning: Image size (121696128 pixels) exceeds limit of 89478485 pixels, could be decompression bomb DOS attack.\n",
      "  warnings.warn(\n",
      "/home/mlfavorfit/anaconda3/envs/diffusion_rnd/lib/python3.10/site-packages/PIL/Image.py:3186: DecompressionBombWarning: Image size (98724096 pixels) exceeds limit of 89478485 pixels, could be decompression bomb DOS attack.\n",
      "  warnings.warn(\n",
      " 51%|█████     | 101267/197967 [6:51:43<6:30:17,  4.13it/s] /home/mlfavorfit/anaconda3/envs/diffusion_rnd/lib/python3.10/site-packages/PIL/Image.py:3186: DecompressionBombWarning: Image size (161243136 pixels) exceeds limit of 89478485 pixels, could be decompression bomb DOS attack.\n",
      "  warnings.warn(\n",
      "/home/mlfavorfit/anaconda3/envs/diffusion_rnd/lib/python3.10/site-packages/PIL/Image.py:3186: DecompressionBombWarning: Image size (107495424 pixels) exceeds limit of 89478485 pixels, could be decompression bomb DOS attack.\n",
      "  warnings.warn(\n",
      " 51%|█████▏    | 101678/197967 [6:53:20<6:08:24,  4.36it/s] /home/mlfavorfit/anaconda3/envs/diffusion_rnd/lib/python3.10/site-packages/PIL/Image.py:3186: DecompressionBombWarning: Image size (144072000 pixels) exceeds limit of 89478485 pixels, could be decompression bomb DOS attack.\n",
      "  warnings.warn(\n",
      " 52%|█████▏    | 103533/197967 [7:00:41<6:10:13,  4.25it/s] /home/mlfavorfit/anaconda3/envs/diffusion_rnd/lib/python3.10/site-packages/PIL/Image.py:3186: DecompressionBombWarning: Image size (106277664 pixels) exceeds limit of 89478485 pixels, could be decompression bomb DOS attack.\n",
      "  warnings.warn(\n",
      " 53%|█████▎    | 104433/197967 [7:04:16<3:55:13,  6.63it/s] /home/mlfavorfit/anaconda3/envs/diffusion_rnd/lib/python3.10/site-packages/PIL/Image.py:3186: DecompressionBombWarning: Image size (100511514 pixels) exceeds limit of 89478485 pixels, could be decompression bomb DOS attack.\n",
      "  warnings.warn(\n",
      " 53%|█████▎    | 105013/197967 [7:06:44<4:49:34,  5.35it/s] /home/mlfavorfit/anaconda3/envs/diffusion_rnd/lib/python3.10/site-packages/PIL/Image.py:3186: DecompressionBombWarning: Image size (98175221 pixels) exceeds limit of 89478485 pixels, could be decompression bomb DOS attack.\n",
      "  warnings.warn(\n",
      " 53%|█████▎    | 105214/197967 [7:07:35<6:30:36,  3.96it/s] /home/mlfavorfit/anaconda3/envs/diffusion_rnd/lib/python3.10/site-packages/PIL/Image.py:3186: DecompressionBombWarning: Image size (151126016 pixels) exceeds limit of 89478485 pixels, could be decompression bomb DOS attack.\n",
      "  warnings.warn(\n",
      " 53%|█████▎    | 105305/197967 [7:07:57<6:38:22,  3.88it/s] /home/mlfavorfit/anaconda3/envs/diffusion_rnd/lib/python3.10/site-packages/PIL/Image.py:3186: DecompressionBombWarning: Image size (144009000 pixels) exceeds limit of 89478485 pixels, could be decompression bomb DOS attack.\n",
      "  warnings.warn(\n",
      " 53%|█████▎    | 105447/197967 [7:08:32<4:24:59,  5.82it/s] /home/mlfavorfit/anaconda3/envs/diffusion_rnd/lib/python3.10/site-packages/PIL/Image.py:3186: DecompressionBombWarning: Image size (102357011 pixels) exceeds limit of 89478485 pixels, could be decompression bomb DOS attack.\n",
      "  warnings.warn(\n",
      " 53%|█████▎    | 105721/197967 [7:09:42<7:08:49,  3.59it/s] /home/mlfavorfit/anaconda3/envs/diffusion_rnd/lib/python3.10/site-packages/PIL/Image.py:3186: DecompressionBombWarning: Image size (141869056 pixels) exceeds limit of 89478485 pixels, could be decompression bomb DOS attack.\n",
      "  warnings.warn(\n",
      " 53%|█████▎    | 105817/197967 [7:10:10<6:22:29,  4.02it/s] /home/mlfavorfit/anaconda3/envs/diffusion_rnd/lib/python3.10/site-packages/PIL/Image.py:3186: DecompressionBombWarning: Image size (97626813 pixels) exceeds limit of 89478485 pixels, could be decompression bomb DOS attack.\n",
      "  warnings.warn(\n",
      " 54%|█████▍    | 107617/197967 [7:17:37<5:29:36,  4.57it/s] /home/mlfavorfit/anaconda3/envs/diffusion_rnd/lib/python3.10/site-packages/PIL/Image.py:3186: DecompressionBombWarning: Image size (158115888 pixels) exceeds limit of 89478485 pixels, could be decompression bomb DOS attack.\n",
      "  warnings.warn(\n",
      "/home/mlfavorfit/anaconda3/envs/diffusion_rnd/lib/python3.10/site-packages/PIL/Image.py:3186: DecompressionBombWarning: Image size (117029124 pixels) exceeds limit of 89478485 pixels, could be decompression bomb DOS attack.\n",
      "  warnings.warn(\n",
      " 55%|█████▌    | 108941/197967 [7:23:03<6:26:22,  3.84it/s] /home/mlfavorfit/anaconda3/envs/diffusion_rnd/lib/python3.10/site-packages/PIL/Image.py:3186: DecompressionBombWarning: Image size (160874550 pixels) exceeds limit of 89478485 pixels, could be decompression bomb DOS attack.\n",
      "  warnings.warn(\n",
      "/home/mlfavorfit/anaconda3/envs/diffusion_rnd/lib/python3.10/site-packages/PIL/Image.py:3186: DecompressionBombWarning: Image size (96530625 pixels) exceeds limit of 89478485 pixels, could be decompression bomb DOS attack.\n",
      "  warnings.warn(\n",
      " 55%|█████▌    | 108986/197967 [7:23:17<7:42:18,  3.21it/s] /home/mlfavorfit/anaconda3/envs/diffusion_rnd/lib/python3.10/site-packages/PIL/Image.py:3186: DecompressionBombWarning: Image size (99006342 pixels) exceeds limit of 89478485 pixels, could be decompression bomb DOS attack.\n",
      "  warnings.warn(\n",
      " 55%|█████▌    | 109593/197967 [7:25:54<6:06:21,  4.02it/s] /home/mlfavorfit/anaconda3/envs/diffusion_rnd/lib/python3.10/site-packages/PIL/Image.py:3186: DecompressionBombWarning: Image size (97820151 pixels) exceeds limit of 89478485 pixels, could be decompression bomb DOS attack.\n",
      "  warnings.warn(\n",
      " 56%|█████▌    | 109874/197967 [7:27:04<7:55:06,  3.09it/s] /home/mlfavorfit/anaconda3/envs/diffusion_rnd/lib/python3.10/site-packages/PIL/Image.py:3186: DecompressionBombWarning: Image size (92112176 pixels) exceeds limit of 89478485 pixels, could be decompression bomb DOS attack.\n",
      "  warnings.warn(\n",
      " 56%|█████▌    | 110070/197967 [7:27:55<6:56:59,  3.51it/s] /home/mlfavorfit/anaconda3/envs/diffusion_rnd/lib/python3.10/site-packages/PIL/Image.py:3186: DecompressionBombWarning: Image size (99434904 pixels) exceeds limit of 89478485 pixels, could be decompression bomb DOS attack.\n",
      "  warnings.warn(\n",
      " 56%|█████▌    | 110085/197967 [7:27:59<6:25:58,  3.79it/s] /home/mlfavorfit/anaconda3/envs/diffusion_rnd/lib/python3.10/site-packages/PIL/Image.py:3186: DecompressionBombWarning: Image size (114081912 pixels) exceeds limit of 89478485 pixels, could be decompression bomb DOS attack.\n",
      "  warnings.warn(\n",
      " 56%|█████▌    | 110243/197967 [7:28:39<6:34:52,  3.70it/s] /home/mlfavorfit/anaconda3/envs/diffusion_rnd/lib/python3.10/site-packages/PIL/Image.py:3186: DecompressionBombWarning: Image size (97521306 pixels) exceeds limit of 89478485 pixels, could be decompression bomb DOS attack.\n",
      "  warnings.warn(\n",
      " 56%|█████▌    | 110719/197967 [7:30:33<4:21:38,  5.56it/s] /home/mlfavorfit/anaconda3/envs/diffusion_rnd/lib/python3.10/site-packages/PIL/Image.py:3186: DecompressionBombWarning: Image size (171040204 pixels) exceeds limit of 89478485 pixels, could be decompression bomb DOS attack.\n",
      "  warnings.warn(\n",
      "/home/mlfavorfit/anaconda3/envs/diffusion_rnd/lib/python3.10/site-packages/PIL/Image.py:3186: DecompressionBombWarning: Image size (114019684 pixels) exceeds limit of 89478485 pixels, could be decompression bomb DOS attack.\n",
      "  warnings.warn(\n",
      " 56%|█████▌    | 111122/197967 [7:32:09<5:34:41,  4.32it/s] /home/mlfavorfit/anaconda3/envs/diffusion_rnd/lib/python3.10/site-packages/PIL/Image.py:3186: DecompressionBombWarning: Image size (141702416 pixels) exceeds limit of 89478485 pixels, could be decompression bomb DOS attack.\n",
      "  warnings.warn(\n",
      "/home/mlfavorfit/anaconda3/envs/diffusion_rnd/lib/python3.10/site-packages/PIL/Image.py:3186: DecompressionBombWarning: Image size (121264144 pixels) exceeds limit of 89478485 pixels, could be decompression bomb DOS attack.\n",
      "  warnings.warn(\n",
      " 57%|█████▋    | 112267/197967 [7:37:04<4:33:03,  5.23it/s] /home/mlfavorfit/anaconda3/envs/diffusion_rnd/lib/python3.10/site-packages/PIL/Image.py:3186: DecompressionBombWarning: Image size (119997141 pixels) exceeds limit of 89478485 pixels, could be decompression bomb DOS attack.\n",
      "  warnings.warn(\n",
      " 57%|█████▋    | 113241/197967 [7:41:21<7:16:39,  3.23it/s] /home/mlfavorfit/anaconda3/envs/diffusion_rnd/lib/python3.10/site-packages/PIL/Image.py:3186: DecompressionBombWarning: Image size (161139932 pixels) exceeds limit of 89478485 pixels, could be decompression bomb DOS attack.\n",
      "  warnings.warn(\n",
      "/home/mlfavorfit/anaconda3/envs/diffusion_rnd/lib/python3.10/site-packages/PIL/Image.py:3186: DecompressionBombWarning: Image size (100560784 pixels) exceeds limit of 89478485 pixels, could be decompression bomb DOS attack.\n",
      "  warnings.warn(\n",
      " 58%|█████▊    | 114002/197967 [7:44:45<3:15:06,  7.17it/s] /home/mlfavorfit/anaconda3/envs/diffusion_rnd/lib/python3.10/site-packages/PIL/Image.py:3186: DecompressionBombWarning: Image size (111697920 pixels) exceeds limit of 89478485 pixels, could be decompression bomb DOS attack.\n",
      "  warnings.warn(\n",
      " 58%|█████▊    | 115078/197967 [7:49:53<5:58:16,  3.86it/s] /home/mlfavorfit/anaconda3/envs/diffusion_rnd/lib/python3.10/site-packages/PIL/Image.py:3186: DecompressionBombWarning: Image size (158011196 pixels) exceeds limit of 89478485 pixels, could be decompression bomb DOS attack.\n",
      "  warnings.warn(\n",
      " 59%|█████▉    | 117582/197967 [8:00:14<5:56:38,  3.76it/s] /home/mlfavorfit/anaconda3/envs/diffusion_rnd/lib/python3.10/site-packages/PIL/Image.py:3186: DecompressionBombWarning: Image size (114791256 pixels) exceeds limit of 89478485 pixels, could be decompression bomb DOS attack.\n",
      "  warnings.warn(\n",
      " 60%|█████▉    | 118426/197967 [8:03:38<5:51:19,  3.77it/s] /home/mlfavorfit/anaconda3/envs/diffusion_rnd/lib/python3.10/site-packages/PIL/Image.py:3186: DecompressionBombWarning: Image size (169862283 pixels) exceeds limit of 89478485 pixels, could be decompression bomb DOS attack.\n",
      "  warnings.warn(\n",
      "/home/mlfavorfit/anaconda3/envs/diffusion_rnd/lib/python3.10/site-packages/PIL/Image.py:3186: DecompressionBombWarning: Image size (113230881 pixels) exceeds limit of 89478485 pixels, could be decompression bomb DOS attack.\n",
      "  warnings.warn(\n",
      " 60%|██████    | 119558/197967 [8:07:53<4:29:13,  4.85it/s] /home/mlfavorfit/anaconda3/envs/diffusion_rnd/lib/python3.10/site-packages/PIL/Image.py:3186: DecompressionBombWarning: Image size (95656288 pixels) exceeds limit of 89478485 pixels, could be decompression bomb DOS attack.\n",
      "  warnings.warn(\n",
      " 61%|██████    | 120556/197967 [8:12:20<9:17:26,  2.31it/s] /home/mlfavorfit/anaconda3/envs/diffusion_rnd/lib/python3.10/site-packages/PIL/Image.py:3186: DecompressionBombWarning: Image size (91524395 pixels) exceeds limit of 89478485 pixels, could be decompression bomb DOS attack.\n",
      "  warnings.warn(\n",
      " 61%|██████▏   | 121334/197967 [8:15:30<6:59:47,  3.04it/s] /home/mlfavorfit/anaconda3/envs/diffusion_rnd/lib/python3.10/site-packages/PIL/Image.py:3186: DecompressionBombWarning: Image size (93094196 pixels) exceeds limit of 89478485 pixels, could be decompression bomb DOS attack.\n",
      "  warnings.warn(\n",
      " 61%|██████▏   | 121336/197967 [8:15:32<12:49:37,  1.66it/s]/home/mlfavorfit/anaconda3/envs/diffusion_rnd/lib/python3.10/site-packages/PIL/Image.py:3186: DecompressionBombWarning: Image size (97470000 pixels) exceeds limit of 89478485 pixels, could be decompression bomb DOS attack.\n",
      "  warnings.warn(\n",
      " 64%|██████▍   | 126794/197967 [8:36:59<3:27:49,  5.71it/s] /home/mlfavorfit/anaconda3/envs/diffusion_rnd/lib/python3.10/site-packages/PIL/Image.py:3186: DecompressionBombWarning: Image size (99996755 pixels) exceeds limit of 89478485 pixels, could be decompression bomb DOS attack.\n",
      "  warnings.warn(\n",
      " 64%|██████▍   | 127190/197967 [8:38:29<3:48:38,  5.16it/s]/home/mlfavorfit/anaconda3/envs/diffusion_rnd/lib/python3.10/site-packages/PIL/Image.py:3186: DecompressionBombWarning: Image size (149323776 pixels) exceeds limit of 89478485 pixels, could be decompression bomb DOS attack.\n",
      "  warnings.warn(\n",
      " 64%|██████▍   | 127239/197967 [8:38:40<3:30:58,  5.59it/s] /home/mlfavorfit/anaconda3/envs/diffusion_rnd/lib/python3.10/site-packages/PIL/Image.py:3186: DecompressionBombWarning: Image size (99580441 pixels) exceeds limit of 89478485 pixels, could be decompression bomb DOS attack.\n",
      "  warnings.warn(\n",
      " 64%|██████▍   | 127437/197967 [8:39:25<5:19:40,  3.68it/s]/home/mlfavorfit/anaconda3/envs/diffusion_rnd/lib/python3.10/site-packages/PIL/Image.py:3186: DecompressionBombWarning: Image size (99440784 pixels) exceeds limit of 89478485 pixels, could be decompression bomb DOS attack.\n",
      "  warnings.warn(\n",
      " 67%|██████▋   | 132919/197967 [9:02:00<4:53:44,  3.69it/s] /home/mlfavorfit/anaconda3/envs/diffusion_rnd/lib/python3.10/site-packages/PIL/Image.py:3186: DecompressionBombWarning: Image size (99880000 pixels) exceeds limit of 89478485 pixels, could be decompression bomb DOS attack.\n",
      "  warnings.warn(\n",
      " 68%|██████▊   | 133919/197967 [9:06:18<6:31:07,  2.73it/s] /home/mlfavorfit/anaconda3/envs/diffusion_rnd/lib/python3.10/site-packages/PIL/Image.py:3186: DecompressionBombWarning: Image size (99840064 pixels) exceeds limit of 89478485 pixels, could be decompression bomb DOS attack.\n",
      "  warnings.warn(\n",
      " 68%|██████▊   | 135470/197967 [9:12:15<3:45:25,  4.62it/s] /home/mlfavorfit/anaconda3/envs/diffusion_rnd/lib/python3.10/site-packages/PIL/Image.py:3186: DecompressionBombWarning: Image size (104651360 pixels) exceeds limit of 89478485 pixels, could be decompression bomb DOS attack.\n",
      "  warnings.warn(\n",
      " 69%|██████▊   | 135779/197967 [9:13:26<3:46:04,  4.58it/s]/home/mlfavorfit/anaconda3/envs/diffusion_rnd/lib/python3.10/site-packages/PIL/Image.py:3186: DecompressionBombWarning: Image size (115934000 pixels) exceeds limit of 89478485 pixels, could be decompression bomb DOS attack.\n",
      "  warnings.warn(\n",
      " 69%|██████▉   | 137066/197967 [9:17:22<4:43:18,  3.58it/s]/home/mlfavorfit/anaconda3/envs/diffusion_rnd/lib/python3.10/site-packages/PIL/Image.py:3186: DecompressionBombWarning: Image size (106525707 pixels) exceeds limit of 89478485 pixels, could be decompression bomb DOS attack.\n",
      "  warnings.warn(\n",
      " 69%|██████▉   | 137135/197967 [9:17:40<5:04:03,  3.33it/s] /home/mlfavorfit/anaconda3/envs/diffusion_rnd/lib/python3.10/site-packages/PIL/Image.py:3186: DecompressionBombWarning: Image size (96270000 pixels) exceeds limit of 89478485 pixels, could be decompression bomb DOS attack.\n",
      "  warnings.warn(\n",
      "/home/mlfavorfit/anaconda3/envs/diffusion_rnd/lib/python3.10/site-packages/PIL/Image.py:3186: DecompressionBombWarning: Image size (92679129 pixels) exceeds limit of 89478485 pixels, could be decompression bomb DOS attack.\n",
      "  warnings.warn(\n",
      " 69%|██████▉   | 137141/197967 [9:17:43<4:44:07,  3.57it/s] /home/mlfavorfit/anaconda3/envs/diffusion_rnd/lib/python3.10/site-packages/PIL/Image.py:3186: DecompressionBombWarning: Image size (96100000 pixels) exceeds limit of 89478485 pixels, could be decompression bomb DOS attack.\n",
      "  warnings.warn(\n",
      "/home/mlfavorfit/anaconda3/envs/diffusion_rnd/lib/python3.10/site-packages/PIL/Image.py:3186: DecompressionBombWarning: Image size (92352100 pixels) exceeds limit of 89478485 pixels, could be decompression bomb DOS attack.\n",
      "  warnings.warn(\n",
      " 69%|██████▉   | 137151/197967 [9:17:46<3:19:15,  5.09it/s]/home/mlfavorfit/anaconda3/envs/diffusion_rnd/lib/python3.10/site-packages/PIL/Image.py:3186: DecompressionBombWarning: Image size (98020000 pixels) exceeds limit of 89478485 pixels, could be decompression bomb DOS attack.\n",
      "  warnings.warn(\n",
      "/home/mlfavorfit/anaconda3/envs/diffusion_rnd/lib/python3.10/site-packages/PIL/Image.py:3186: DecompressionBombWarning: Image size (96079204 pixels) exceeds limit of 89478485 pixels, could be decompression bomb DOS attack.\n",
      "  warnings.warn(\n",
      " 71%|███████   | 140956/197967 [9:33:00<3:33:22,  4.45it/s]/home/mlfavorfit/anaconda3/envs/diffusion_rnd/lib/python3.10/site-packages/PIL/Image.py:3186: DecompressionBombWarning: Image size (144764928 pixels) exceeds limit of 89478485 pixels, could be decompression bomb DOS attack.\n",
      "  warnings.warn(\n",
      "/home/mlfavorfit/anaconda3/envs/diffusion_rnd/lib/python3.10/site-packages/PIL/Image.py:3186: DecompressionBombWarning: Image size (95883264 pixels) exceeds limit of 89478485 pixels, could be decompression bomb DOS attack.\n",
      "  warnings.warn(\n",
      " 73%|███████▎  | 143619/197967 [9:44:18<4:20:39,  3.48it/s]/home/mlfavorfit/anaconda3/envs/diffusion_rnd/lib/python3.10/site-packages/PIL/Image.py:3186: DecompressionBombWarning: Image size (122257408 pixels) exceeds limit of 89478485 pixels, could be decompression bomb DOS attack.\n",
      "  warnings.warn(\n",
      " 73%|███████▎  | 144262/197967 [9:46:49<5:46:50,  2.58it/s]/home/mlfavorfit/anaconda3/envs/diffusion_rnd/lib/python3.10/site-packages/PIL/Image.py:3186: DecompressionBombWarning: Image size (142622311 pixels) exceeds limit of 89478485 pixels, could be decompression bomb DOS attack.\n",
      "  warnings.warn(\n",
      " 73%|███████▎  | 145383/197967 [9:51:41<3:21:32,  4.35it/s] /home/mlfavorfit/anaconda3/envs/diffusion_rnd/lib/python3.10/site-packages/PIL/Image.py:3186: DecompressionBombWarning: Image size (120435200 pixels) exceeds limit of 89478485 pixels, could be decompression bomb DOS attack.\n",
      "  warnings.warn(\n",
      " 75%|███████▍  | 147848/197967 [10:02:27<4:37:18,  3.01it/s]/home/mlfavorfit/anaconda3/envs/diffusion_rnd/lib/python3.10/site-packages/PIL/Image.py:3186: DecompressionBombWarning: Image size (93096000 pixels) exceeds limit of 89478485 pixels, could be decompression bomb DOS attack.\n",
      "  warnings.warn(\n",
      " 75%|███████▍  | 148354/197967 [10:04:38<2:04:11,  6.66it/s]/home/mlfavorfit/anaconda3/envs/diffusion_rnd/lib/python3.10/site-packages/PIL/Image.py:3186: DecompressionBombWarning: Image size (121590000 pixels) exceeds limit of 89478485 pixels, could be decompression bomb DOS attack.\n",
      "  warnings.warn(\n",
      " 75%|███████▌  | 148772/197967 [10:06:19<3:01:14,  4.52it/s]/home/mlfavorfit/anaconda3/envs/diffusion_rnd/lib/python3.10/site-packages/PIL/Image.py:3186: DecompressionBombWarning: Image size (107991000 pixels) exceeds limit of 89478485 pixels, could be decompression bomb DOS attack.\n",
      "  warnings.warn(\n",
      " 76%|███████▋  | 151073/197967 [10:15:40<3:42:01,  3.52it/s]/home/mlfavorfit/anaconda3/envs/diffusion_rnd/lib/python3.10/site-packages/PIL/Image.py:3186: DecompressionBombWarning: Image size (120625000 pixels) exceeds limit of 89478485 pixels, could be decompression bomb DOS attack.\n",
      "  warnings.warn(\n",
      "/home/mlfavorfit/anaconda3/envs/diffusion_rnd/lib/python3.10/site-packages/PIL/Image.py:3186: DecompressionBombWarning: Image size (93122500 pixels) exceeds limit of 89478485 pixels, could be decompression bomb DOS attack.\n",
      "  warnings.warn(\n",
      " 77%|███████▋  | 152836/197967 [10:22:48<2:27:12,  5.11it/s]/home/mlfavorfit/anaconda3/envs/diffusion_rnd/lib/python3.10/site-packages/PIL/Image.py:3186: DecompressionBombWarning: Image size (96377472 pixels) exceeds limit of 89478485 pixels, could be decompression bomb DOS attack.\n",
      "  warnings.warn(\n",
      " 78%|███████▊  | 154579/197967 [10:29:53<3:26:43,  3.50it/s]/home/mlfavorfit/anaconda3/envs/diffusion_rnd/lib/python3.10/site-packages/PIL/Image.py:3186: DecompressionBombWarning: Image size (109350434 pixels) exceeds limit of 89478485 pixels, could be decompression bomb DOS attack.\n",
      "  warnings.warn(\n",
      " 79%|███████▊  | 155538/197967 [10:33:51<3:10:55,  3.70it/s]/home/mlfavorfit/anaconda3/envs/diffusion_rnd/lib/python3.10/site-packages/PIL/Image.py:3186: DecompressionBombWarning: Image size (112147264 pixels) exceeds limit of 89478485 pixels, could be decompression bomb DOS attack.\n",
      "  warnings.warn(\n",
      " 79%|███████▉  | 156330/197967 [10:36:44<51:52, 13.38it/s]  /home/mlfavorfit/anaconda3/envs/diffusion_rnd/lib/python3.10/site-packages/PIL/Image.py:3186: DecompressionBombWarning: Image size (104472000 pixels) exceeds limit of 89478485 pixels, could be decompression bomb DOS attack.\n",
      "  warnings.warn(\n",
      " 80%|███████▉  | 157545/197967 [10:41:35<1:50:26,  6.10it/s]/home/mlfavorfit/anaconda3/envs/diffusion_rnd/lib/python3.10/site-packages/PIL/Image.py:3186: DecompressionBombWarning: Image size (158302208 pixels) exceeds limit of 89478485 pixels, could be decompression bomb DOS attack.\n",
      "  warnings.warn(\n",
      "/home/mlfavorfit/anaconda3/envs/diffusion_rnd/lib/python3.10/site-packages/PIL/Image.py:3186: DecompressionBombWarning: Image size (93354244 pixels) exceeds limit of 89478485 pixels, could be decompression bomb DOS attack.\n",
      "  warnings.warn(\n",
      " 80%|████████  | 158497/197967 [10:45:28<1:43:10,  6.38it/s]/home/mlfavorfit/anaconda3/envs/diffusion_rnd/lib/python3.10/site-packages/PIL/Image.py:3186: DecompressionBombWarning: Image size (131179934 pixels) exceeds limit of 89478485 pixels, could be decompression bomb DOS attack.\n",
      "  warnings.warn(\n",
      "/home/mlfavorfit/anaconda3/envs/diffusion_rnd/lib/python3.10/site-packages/PIL/Image.py:3186: DecompressionBombWarning: Image size (92140801 pixels) exceeds limit of 89478485 pixels, could be decompression bomb DOS attack.\n",
      "  warnings.warn(\n",
      " 81%|████████  | 160705/197967 [10:54:31<1:31:42,  6.77it/s]/home/mlfavorfit/anaconda3/envs/diffusion_rnd/lib/python3.10/site-packages/PIL/Image.py:3186: DecompressionBombWarning: Image size (100017228 pixels) exceeds limit of 89478485 pixels, could be decompression bomb DOS attack.\n",
      "  warnings.warn(\n",
      " 81%|████████  | 160743/197967 [10:54:43<3:32:38,  2.92it/s]/home/mlfavorfit/anaconda3/envs/diffusion_rnd/lib/python3.10/site-packages/PIL/Image.py:3186: DecompressionBombWarning: Image size (93858819 pixels) exceeds limit of 89478485 pixels, could be decompression bomb DOS attack.\n",
      "  warnings.warn(\n",
      " 81%|████████▏ | 161102/197967 [10:56:16<2:26:26,  4.20it/s]/home/mlfavorfit/anaconda3/envs/diffusion_rnd/lib/python3.10/site-packages/PIL/Image.py:3186: DecompressionBombWarning: Image size (149040000 pixels) exceeds limit of 89478485 pixels, could be decompression bomb DOS attack.\n",
      "  warnings.warn(\n",
      " 82%|████████▏ | 161911/197967 [10:59:30<1:47:42,  5.58it/s]/home/mlfavorfit/anaconda3/envs/diffusion_rnd/lib/python3.10/site-packages/PIL/Image.py:3186: DecompressionBombWarning: Image size (90664770 pixels) exceeds limit of 89478485 pixels, could be decompression bomb DOS attack.\n",
      "  warnings.warn(\n",
      " 82%|████████▏ | 162212/197967 [11:00:43<2:45:03,  3.61it/s]/home/mlfavorfit/anaconda3/envs/diffusion_rnd/lib/python3.10/site-packages/PIL/Image.py:3186: DecompressionBombWarning: Image size (143020394 pixels) exceeds limit of 89478485 pixels, could be decompression bomb DOS attack.\n",
      "  warnings.warn(\n",
      "/home/mlfavorfit/anaconda3/envs/diffusion_rnd/lib/python3.10/site-packages/PIL/Image.py:3186: DecompressionBombWarning: Image size (113763556 pixels) exceeds limit of 89478485 pixels, could be decompression bomb DOS attack.\n",
      "  warnings.warn(\n",
      " 82%|████████▏ | 162398/197967 [11:01:31<2:25:40,  4.07it/s]/home/mlfavorfit/anaconda3/envs/diffusion_rnd/lib/python3.10/site-packages/PIL/Image.py:3186: DecompressionBombWarning: Image size (90987379 pixels) exceeds limit of 89478485 pixels, could be decompression bomb DOS attack.\n",
      "  warnings.warn(\n",
      " 82%|████████▏ | 163229/197967 [11:04:40<2:33:33,  3.77it/s]/home/mlfavorfit/anaconda3/envs/diffusion_rnd/lib/python3.10/site-packages/PIL/Image.py:3186: DecompressionBombWarning: Image size (140384249 pixels) exceeds limit of 89478485 pixels, could be decompression bomb DOS attack.\n",
      "  warnings.warn(\n",
      "/home/mlfavorfit/anaconda3/envs/diffusion_rnd/lib/python3.10/site-packages/PIL/Image.py:3186: DecompressionBombWarning: Image size (93566929 pixels) exceeds limit of 89478485 pixels, could be decompression bomb DOS attack.\n",
      "  warnings.warn(\n",
      " 83%|████████▎ | 163328/197967 [11:05:07<2:28:24,  3.89it/s]/home/mlfavorfit/anaconda3/envs/diffusion_rnd/lib/python3.10/site-packages/PIL/Image.py:3186: DecompressionBombWarning: Image size (99660240 pixels) exceeds limit of 89478485 pixels, could be decompression bomb DOS attack.\n",
      "  warnings.warn(\n",
      " 83%|████████▎ | 164882/197967 [11:11:45<3:28:31,  2.64it/s]/home/mlfavorfit/anaconda3/envs/diffusion_rnd/lib/python3.10/site-packages/PIL/Image.py:3186: DecompressionBombWarning: Image size (99964053 pixels) exceeds limit of 89478485 pixels, could be decompression bomb DOS attack.\n",
      "  warnings.warn(\n",
      " 83%|████████▎ | 165129/197967 [11:12:47<2:20:03,  3.91it/s]/home/mlfavorfit/anaconda3/envs/diffusion_rnd/lib/python3.10/site-packages/PIL/Image.py:3186: DecompressionBombWarning: Image size (104162500 pixels) exceeds limit of 89478485 pixels, could be decompression bomb DOS attack.\n",
      "  warnings.warn(\n",
      " 84%|████████▍ | 166791/197967 [11:20:22<1:55:06,  4.51it/s]/home/mlfavorfit/anaconda3/envs/diffusion_rnd/lib/python3.10/site-packages/PIL/Image.py:3186: DecompressionBombWarning: Image size (144294912 pixels) exceeds limit of 89478485 pixels, could be decompression bomb DOS attack.\n",
      "  warnings.warn(\n",
      " 84%|████████▍ | 166822/197967 [11:20:33<3:06:43,  2.78it/s]/home/mlfavorfit/anaconda3/envs/diffusion_rnd/lib/python3.10/site-packages/PIL/Image.py:3186: DecompressionBombWarning: Image size (125558784 pixels) exceeds limit of 89478485 pixels, could be decompression bomb DOS attack.\n",
      "  warnings.warn(\n",
      " 85%|████████▍ | 167445/197967 [11:23:13<1:52:48,  4.51it/s]/home/mlfavorfit/anaconda3/envs/diffusion_rnd/lib/python3.10/site-packages/PIL/Image.py:3186: DecompressionBombWarning: Image size (97832152 pixels) exceeds limit of 89478485 pixels, could be decompression bomb DOS attack.\n",
      "  warnings.warn(\n",
      " 85%|████████▍ | 167591/197967 [11:23:52<2:04:05,  4.08it/s]/home/mlfavorfit/anaconda3/envs/diffusion_rnd/lib/python3.10/site-packages/PIL/Image.py:3186: DecompressionBombWarning: Image size (95560504 pixels) exceeds limit of 89478485 pixels, could be decompression bomb DOS attack.\n",
      "  warnings.warn(\n",
      " 85%|████████▌ | 168575/197967 [11:28:00<2:01:09,  4.04it/s]/home/mlfavorfit/anaconda3/envs/diffusion_rnd/lib/python3.10/site-packages/PIL/Image.py:3186: DecompressionBombWarning: Image size (135303424 pixels) exceeds limit of 89478485 pixels, could be decompression bomb DOS attack.\n",
      "  warnings.warn(\n",
      " 86%|████████▌ | 169913/197967 [11:33:38<2:53:15,  2.70it/s]/home/mlfavorfit/anaconda3/envs/diffusion_rnd/lib/python3.10/site-packages/PIL/Image.py:3186: DecompressionBombWarning: Image size (90354432 pixels) exceeds limit of 89478485 pixels, could be decompression bomb DOS attack.\n",
      "  warnings.warn(\n",
      " 86%|████████▌ | 170029/197967 [11:34:08<1:47:09,  4.35it/s]/home/mlfavorfit/anaconda3/envs/diffusion_rnd/lib/python3.10/site-packages/PIL/Image.py:3186: DecompressionBombWarning: Image size (98115164 pixels) exceeds limit of 89478485 pixels, could be decompression bomb DOS attack.\n",
      "  warnings.warn(\n",
      " 86%|████████▌ | 170321/197967 [11:35:17<1:31:35,  5.03it/s]/home/mlfavorfit/anaconda3/envs/diffusion_rnd/lib/python3.10/site-packages/PIL/Image.py:3186: DecompressionBombWarning: Image size (100294572 pixels) exceeds limit of 89478485 pixels, could be decompression bomb DOS attack.\n",
      "  warnings.warn(\n",
      " 86%|████████▌ | 170554/197967 [11:36:10<34:53, 13.09it/s]  /home/mlfavorfit/anaconda3/envs/diffusion_rnd/lib/python3.10/site-packages/PIL/Image.py:3186: DecompressionBombWarning: Image size (115887360 pixels) exceeds limit of 89478485 pixels, could be decompression bomb DOS attack.\n",
      "  warnings.warn(\n",
      " 86%|████████▌ | 170739/197967 [11:36:53<2:23:00,  3.17it/s]/home/mlfavorfit/anaconda3/envs/diffusion_rnd/lib/python3.10/site-packages/PIL/Image.py:3186: DecompressionBombWarning: Image size (89692824 pixels) exceeds limit of 89478485 pixels, could be decompression bomb DOS attack.\n",
      "  warnings.warn(\n",
      " 86%|████████▋ | 170872/197967 [11:37:27<2:02:44,  3.68it/s]/home/mlfavorfit/anaconda3/envs/diffusion_rnd/lib/python3.10/site-packages/PIL/Image.py:3186: DecompressionBombWarning: Image size (130400256 pixels) exceeds limit of 89478485 pixels, could be decompression bomb DOS attack.\n",
      "  warnings.warn(\n",
      " 91%|█████████ | 179577/197967 [12:12:42<1:25:44,  3.57it/s]/home/mlfavorfit/anaconda3/envs/diffusion_rnd/lib/python3.10/site-packages/PIL/Image.py:3186: DecompressionBombWarning: Image size (169479405 pixels) exceeds limit of 89478485 pixels, could be decompression bomb DOS attack.\n",
      "  warnings.warn(\n",
      "/home/mlfavorfit/anaconda3/envs/diffusion_rnd/lib/python3.10/site-packages/PIL/Image.py:3186: DecompressionBombWarning: Image size (112975641 pixels) exceeds limit of 89478485 pixels, could be decompression bomb DOS attack.\n",
      "  warnings.warn(\n",
      " 92%|█████████▏| 181599/197967 [12:21:33<1:11:15,  3.83it/s]/home/mlfavorfit/anaconda3/envs/diffusion_rnd/lib/python3.10/site-packages/PIL/Image.py:3186: DecompressionBombWarning: Image size (100605960 pixels) exceeds limit of 89478485 pixels, could be decompression bomb DOS attack.\n",
      "  warnings.warn(\n",
      " 92%|█████████▏| 181775/197967 [12:22:26<1:29:09,  3.03it/s]/home/mlfavorfit/anaconda3/envs/diffusion_rnd/lib/python3.10/site-packages/PIL/Image.py:3186: DecompressionBombWarning: Image size (101617200 pixels) exceeds limit of 89478485 pixels, could be decompression bomb DOS attack.\n",
      "  warnings.warn(\n",
      " 92%|█████████▏| 182115/197967 [12:24:07<1:58:48,  2.22it/s]/home/mlfavorfit/anaconda3/envs/diffusion_rnd/lib/python3.10/site-packages/PIL/Image.py:3186: DecompressionBombWarning: Image size (112567022 pixels) exceeds limit of 89478485 pixels, could be decompression bomb DOS attack.\n",
      "  warnings.warn(\n",
      " 92%|█████████▏| 183048/197967 [12:28:21<49:11,  5.05it/s]  /home/mlfavorfit/anaconda3/envs/diffusion_rnd/lib/python3.10/site-packages/PIL/Image.py:3186: DecompressionBombWarning: Image size (94464000 pixels) exceeds limit of 89478485 pixels, could be decompression bomb DOS attack.\n",
      "  warnings.warn(\n",
      " 93%|█████████▎| 183477/197967 [12:29:55<58:39,  4.12it/s]  /home/mlfavorfit/anaconda3/envs/diffusion_rnd/lib/python3.10/site-packages/PIL/Image.py:3186: DecompressionBombWarning: Image size (106506000 pixels) exceeds limit of 89478485 pixels, could be decompression bomb DOS attack.\n",
      "  warnings.warn(\n",
      " 93%|█████████▎| 184140/197967 [12:32:36<1:03:25,  3.63it/s]/home/mlfavorfit/anaconda3/envs/diffusion_rnd/lib/python3.10/site-packages/PIL/Image.py:3186: DecompressionBombWarning: Image size (96036000 pixels) exceeds limit of 89478485 pixels, could be decompression bomb DOS attack.\n",
      "  warnings.warn(\n",
      " 93%|█████████▎| 184745/197967 [12:35:15<58:50,  3.74it/s]  /home/mlfavorfit/anaconda3/envs/diffusion_rnd/lib/python3.10/site-packages/PIL/Image.py:3186: DecompressionBombWarning: Image size (94330880 pixels) exceeds limit of 89478485 pixels, could be decompression bomb DOS attack.\n",
      "  warnings.warn(\n",
      " 94%|█████████▎| 185491/197967 [12:38:12<38:04,  5.46it/s]  /home/mlfavorfit/anaconda3/envs/diffusion_rnd/lib/python3.10/site-packages/PIL/Image.py:3186: DecompressionBombWarning: Image size (101923822 pixels) exceeds limit of 89478485 pixels, could be decompression bomb DOS attack.\n",
      "  warnings.warn(\n",
      " 95%|█████████▍| 187093/197967 [12:45:02<1:20:38,  2.25it/s]/home/mlfavorfit/anaconda3/envs/diffusion_rnd/lib/python3.10/site-packages/PIL/Image.py:3186: DecompressionBombWarning: Image size (96865848 pixels) exceeds limit of 89478485 pixels, could be decompression bomb DOS attack.\n",
      "  warnings.warn(\n",
      " 95%|█████████▌| 188746/197967 [12:52:20<40:08,  3.83it/s]  /home/mlfavorfit/anaconda3/envs/diffusion_rnd/lib/python3.10/site-packages/PIL/Image.py:3186: DecompressionBombWarning: Image size (104005632 pixels) exceeds limit of 89478485 pixels, could be decompression bomb DOS attack.\n",
      "  warnings.warn(\n",
      " 96%|█████████▌| 189130/197967 [12:54:06<37:21,  3.94it/s]  /home/mlfavorfit/anaconda3/envs/diffusion_rnd/lib/python3.10/site-packages/PIL/Image.py:3186: DecompressionBombWarning: Image size (91742700 pixels) exceeds limit of 89478485 pixels, could be decompression bomb DOS attack.\n",
      "  warnings.warn(\n",
      " 96%|█████████▋| 190860/197967 [13:02:01<28:26,  4.16it/s]  /home/mlfavorfit/anaconda3/envs/diffusion_rnd/lib/python3.10/site-packages/PIL/Image.py:3186: DecompressionBombWarning: Image size (98977536 pixels) exceeds limit of 89478485 pixels, could be decompression bomb DOS attack.\n",
      "  warnings.warn(\n",
      " 97%|█████████▋| 191600/197967 [13:05:17<30:04,  3.53it/s]  /home/mlfavorfit/anaconda3/envs/diffusion_rnd/lib/python3.10/site-packages/PIL/Image.py:3186: DecompressionBombWarning: Image size (104754384 pixels) exceeds limit of 89478485 pixels, could be decompression bomb DOS attack.\n",
      "  warnings.warn(\n",
      " 97%|█████████▋| 191919/197967 [13:06:40<33:20,  3.02it/s]/home/mlfavorfit/anaconda3/envs/diffusion_rnd/lib/python3.10/site-packages/PIL/Image.py:3186: DecompressionBombWarning: Image size (118800000 pixels) exceeds limit of 89478485 pixels, could be decompression bomb DOS attack.\n",
      "  warnings.warn(\n",
      "/home/mlfavorfit/anaconda3/envs/diffusion_rnd/lib/python3.10/site-packages/PIL/Image.py:3186: DecompressionBombWarning: Image size (98010000 pixels) exceeds limit of 89478485 pixels, could be decompression bomb DOS attack.\n",
      "  warnings.warn(\n",
      " 97%|█████████▋| 192441/197967 [13:08:54<30:20,  3.04it/s]  /home/mlfavorfit/anaconda3/envs/diffusion_rnd/lib/python3.10/site-packages/PIL/Image.py:3186: DecompressionBombWarning: Image size (97410320 pixels) exceeds limit of 89478485 pixels, could be decompression bomb DOS attack.\n",
      "  warnings.warn(\n",
      " 99%|█████████▊| 195343/197967 [13:20:09<08:04,  5.42it/s]/home/mlfavorfit/anaconda3/envs/diffusion_rnd/lib/python3.10/site-packages/PIL/Image.py:3186: DecompressionBombWarning: Image size (99333000 pixels) exceeds limit of 89478485 pixels, could be decompression bomb DOS attack.\n",
      "  warnings.warn(\n",
      " 99%|█████████▉| 196827/197967 [13:26:13<07:26,  2.55it/s]/home/mlfavorfit/anaconda3/envs/diffusion_rnd/lib/python3.10/site-packages/PIL/Image.py:3186: DecompressionBombWarning: Image size (126366788 pixels) exceeds limit of 89478485 pixels, could be decompression bomb DOS attack.\n",
      "  warnings.warn(\n",
      "/home/mlfavorfit/anaconda3/envs/diffusion_rnd/lib/python3.10/site-packages/PIL/Image.py:3186: DecompressionBombWarning: Image size (94750756 pixels) exceeds limit of 89478485 pixels, could be decompression bomb DOS attack.\n",
      "  warnings.warn(\n",
      "100%|██████████| 197967/197967 [13:30:48<00:00,  4.07it/s]\n"
     ]
    }
   ],
   "source": [
    "root_dir = \"/media/mlfavorfit/sda/product_512\"\n",
    "import os\n",
    "from tqdm import tqdm\n",
    "from utils import make_outpaint_condition\n",
    "\n",
    "imgs = sorted(glob(\"/media/mlfavorfit/sda/product_512/image/*\"))\n",
    "masks = sorted(glob(\"/media/mlfavorfit/sda/product_512/mask/*\"))\n",
    "\n",
    "for img, mask in tqdm(zip(imgs, masks), total=len(imgs)):\n",
    "    img_pil = Image.open(img).convert(\"RGB\")\n",
    "    mask_pil = Image.open(mask).convert(\"RGB\")\n",
    "\n",
    "    save_img_path = os.path.join(root_dir,\"object\",os.path.basename(img))\n",
    "    \n",
    "    object_img = make_outpaint_condition(img_pil, mask_pil)\n",
    "    object_img.save(save_img_path)"
   ]
  }
 ],
 "metadata": {
  "kernelspec": {
   "display_name": "diffusion_rnd",
   "language": "python",
   "name": "python3"
  },
  "language_info": {
   "codemirror_mode": {
    "name": "ipython",
    "version": 3
   },
   "file_extension": ".py",
   "mimetype": "text/x-python",
   "name": "python",
   "nbconvert_exporter": "python",
   "pygments_lexer": "ipython3",
   "version": "3.10.13"
  },
  "orig_nbformat": 4
 },
 "nbformat": 4,
 "nbformat_minor": 2
}
