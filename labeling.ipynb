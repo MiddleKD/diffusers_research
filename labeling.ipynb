{
 "cells": [
  {
   "cell_type": "code",
   "execution_count": 39,
   "metadata": {},
   "outputs": [],
   "source": [
    "import cv2"
   ]
  },
  {
   "cell_type": "code",
   "execution_count": 40,
   "metadata": {},
   "outputs": [],
   "source": [
    "from glob import glob"
   ]
  },
  {
   "cell_type": "code",
   "execution_count": 41,
   "metadata": {},
   "outputs": [],
   "source": [
    "image_paths = glob(\"/media/mlfavorfit/sdb/contolnet_dataset/control_net_train_bad/images/cosmetic*\")\n",
    "image_paths = sorted(image_paths)"
   ]
  },
  {
   "cell_type": "code",
   "execution_count": 42,
   "metadata": {},
   "outputs": [
    {
     "data": {
      "text/plain": [
       "8587"
      ]
     },
     "execution_count": 42,
     "metadata": {},
     "output_type": "execute_result"
    }
   ],
   "source": [
    "1280+7307"
   ]
  },
  {
   "cell_type": "code",
   "execution_count": 43,
   "metadata": {},
   "outputs": [],
   "source": [
    "from utils import resize_store_ratio"
   ]
  },
  {
   "cell_type": "code",
   "execution_count": 44,
   "metadata": {},
   "outputs": [
    {
     "name": "stdout",
     "output_type": "stream",
     "text": [
      "Current index: 0\n"
     ]
    }
   ],
   "source": [
    "import shutil\n",
    "from PIL import Image\n",
    "import numpy as np\n",
    "import cv2\n",
    "import os\n",
    "\n",
    "copy_dir = \"./copy\"\n",
    "window_size = (1024, 1024)\n",
    "idx = 0\n",
    "\n",
    "def copy_image(src, dst):\n",
    "    os.makedirs(os.path.dirname(dst), exist_ok=True)\n",
    "    shutil.copy(src, dst)\n",
    "\n",
    "def delete_copied_image(dst):\n",
    "    if os.path.exists(dst):\n",
    "        os.remove(dst)\n",
    "\n",
    "while idx < len(image_paths):\n",
    "    image_path = image_paths[idx]\n",
    "    image = np.array(resize_store_ratio(Image.open(image_path).convert(\"RGB\"), 1024))[:, :, ::-1]\n",
    "    cv2.namedWindow('image', cv2.WINDOW_NORMAL)\n",
    "    cv2.resizeWindow('image', *window_size)\n",
    "    cv2.imshow('image', image)\n",
    "    \n",
    "    key = cv2.waitKey(0)\n",
    "    \n",
    "    if key == ord('d'):\n",
    "        copy_image(image_path, os.path.join(copy_dir, os.path.basename(image_path)))\n",
    "        idx += 1\n",
    "    elif key == ord('a'):\n",
    "        idx += 1\n",
    "    elif key == ord('z'):\n",
    "        delete_copied_image(os.path.join(copy_dir, os.path.basename(image_paths[idx-1])))\n",
    "        idx -= 1\n",
    "        if idx < 0:\n",
    "            idx = 0\n",
    "    elif key == ord('p'):\n",
    "        print(\"Current index:\", idx)\n",
    "        cv2.destroyAllWindows()\n",
    "        break\n",
    "\n",
    "cv2.destroyAllWindows()\n"
   ]
  },
  {
   "cell_type": "code",
   "execution_count": 33,
   "metadata": {},
   "outputs": [],
   "source": [
    "import torch\n",
    "\n",
    "temp = torch.load(\"./kandi_2_2-model-finetuned-lora/resume-13000/scheduler.bin\")"
   ]
  },
  {
   "cell_type": "code",
   "execution_count": 36,
   "metadata": {},
   "outputs": [],
   "source": [
    "temp[\"_last_lr\"][0] = 3e-5"
   ]
  },
  {
   "cell_type": "code",
   "execution_count": 38,
   "metadata": {},
   "outputs": [],
   "source": [
    "torch.save(temp, \"./kandi_2_2-model-finetuned-lora/resume-13000/scheduler.bin\")"
   ]
  }
 ],
 "metadata": {
  "kernelspec": {
   "display_name": "animatediff",
   "language": "python",
   "name": "python3"
  },
  "language_info": {
   "codemirror_mode": {
    "name": "ipython",
    "version": 3
   },
   "file_extension": ".py",
   "mimetype": "text/x-python",
   "name": "python",
   "nbconvert_exporter": "python",
   "pygments_lexer": "ipython3",
   "version": "3.10.13"
  },
  "orig_nbformat": 4
 },
 "nbformat": 4,
 "nbformat_minor": 2
}
